{
 "cells": [
  {
   "cell_type": "code",
   "execution_count": 4,
   "metadata": {},
   "outputs": [
    {
     "name": "stdout",
     "output_type": "stream",
     "text": [
      "Collecting Theano\n",
      "  Downloading https://files.pythonhosted.org/packages/6b/97/bcd5654ba60f35f180931afabbd3b4c46c0379852f961c7a2819ff897f5d/Theano-1.0.5.tar.gz (2.8MB)\n",
      "Requirement already satisfied: numpy>=1.9.1 in c:\\programdata\\anaconda3\\lib\\site-packages (from Theano) (1.16.5)\n",
      "Requirement already satisfied: scipy>=0.14 in c:\\programdata\\anaconda3\\lib\\site-packages (from Theano) (1.4.1)\n",
      "Requirement already satisfied: six>=1.9.0 in c:\\programdata\\anaconda3\\lib\\site-packages (from Theano) (1.12.0)\n",
      "Building wheels for collected packages: Theano\n",
      "  Building wheel for Theano (setup.py): started\n",
      "  Building wheel for Theano (setup.py): finished with status 'done'\n",
      "  Created wheel for Theano: filename=Theano-1.0.5-cp37-none-any.whl size=2668112 sha256=fdc57b09d586139b7d58b25db2227f255541e00fdc48400cd0f72f79283b60a2\n",
      "  Stored in directory: C:\\Users\\n10648771\\AppData\\Local\\pip\\Cache\\wheels\\89\\40\\74\\3a0b7d937890c66c4373120117ebf4ba99f4889b4a0a6a810c\n",
      "Successfully built Theano\n",
      "Installing collected packages: Theano\n",
      "Successfully installed Theano-1.0.5\n",
      "Note: you may need to restart the kernel to use updated packages.\n"
     ]
    }
   ],
   "source": [
    "pip install Theano"
   ]
  },
  {
   "cell_type": "code",
   "execution_count": 5,
   "metadata": {},
   "outputs": [
    {
     "name": "stdout",
     "output_type": "stream",
     "text": [
      "Collecting pymc3\n",
      "  Downloading https://files.pythonhosted.org/packages/11/10/36a32ccc91094d134aed49b560d254c0c362a01d2e827d57932e78c53280/pymc3-3.9.3-py3-none-any.whl (1.9MB)\n",
      "Requirement already satisfied: patsy>=0.5.1 in c:\\programdata\\anaconda3\\lib\\site-packages (from pymc3) (0.5.1)\n",
      "Collecting arviz>=0.9.0 (from pymc3)\n",
      "  Downloading https://files.pythonhosted.org/packages/a9/05/54183e9e57b0793eceb67361dbf4a7c4ed797ae36a04a3287791a564568c/arviz-0.10.0-py3-none-any.whl (1.5MB)\n",
      "Requirement already satisfied: pandas>=0.18.0 in c:\\programdata\\anaconda3\\lib\\site-packages (from pymc3) (0.25.1)\n",
      "Requirement already satisfied: theano>=1.0.5 in c:\\programdata\\anaconda3\\lib\\site-packages (from pymc3) (1.0.5)\n",
      "Requirement already satisfied: numpy>=1.13.0 in c:\\programdata\\anaconda3\\lib\\site-packages (from pymc3) (1.16.5)\n",
      "Collecting fastprogress>=0.2.0 (from pymc3)\n",
      "  Downloading https://files.pythonhosted.org/packages/eb/1f/c61b92d806fbd06ad75d08440efe7f2bd1006ba0b15d086debed49d93cdc/fastprogress-1.0.0-py3-none-any.whl\n",
      "Requirement already satisfied: scipy>=0.18.1 in c:\\programdata\\anaconda3\\lib\\site-packages (from pymc3) (1.4.1)\n",
      "Requirement already satisfied: h5py>=2.7.0 in c:\\programdata\\anaconda3\\lib\\site-packages (from pymc3) (2.9.0)\n",
      "Collecting typing-extensions>=3.7.4 (from pymc3)\n",
      "  Downloading https://files.pythonhosted.org/packages/60/7a/e881b5abb54db0e6e671ab088d079c57ce54e8a01a3ca443f561ccadb37e/typing_extensions-3.7.4.3-py3-none-any.whl\n",
      "Requirement already satisfied: six in c:\\programdata\\anaconda3\\lib\\site-packages (from patsy>=0.5.1->pymc3) (1.12.0)\n",
      "Requirement already satisfied: setuptools>=38.4 in c:\\programdata\\anaconda3\\lib\\site-packages (from arviz>=0.9.0->pymc3) (41.4.0)\n",
      "Requirement already satisfied: packaging in c:\\programdata\\anaconda3\\lib\\site-packages (from arviz>=0.9.0->pymc3) (19.2)\n",
      "Collecting netcdf4 (from arviz>=0.9.0->pymc3)\n",
      "  Downloading https://files.pythonhosted.org/packages/d0/b7/c7f9e99495ba2dd3bf707d08c2254e38e384ac3e18d09d3c790c36cbf9b7/netCDF4-1.5.4-cp37-cp37m-win_amd64.whl (3.1MB)\n",
      "Collecting xarray>=0.16.1 (from arviz>=0.9.0->pymc3)\n",
      "  Downloading https://files.pythonhosted.org/packages/7a/cc/62ca520e349e63b05ce43c781757cbd3bea71d83ece96f2176763b57e8c2/xarray-0.16.1-py3-none-any.whl (720kB)\n",
      "Requirement already satisfied: matplotlib>=3.0 in c:\\programdata\\anaconda3\\lib\\site-packages (from arviz>=0.9.0->pymc3) (3.1.1)\n",
      "Requirement already satisfied: pytz>=2017.2 in c:\\programdata\\anaconda3\\lib\\site-packages (from pandas>=0.18.0->pymc3) (2019.3)\n",
      "Requirement already satisfied: python-dateutil>=2.6.1 in c:\\programdata\\anaconda3\\lib\\site-packages (from pandas>=0.18.0->pymc3) (2.8.0)\n",
      "Requirement already satisfied: pyparsing>=2.0.2 in c:\\programdata\\anaconda3\\lib\\site-packages (from packaging->arviz>=0.9.0->pymc3) (2.4.2)\n",
      "Collecting cftime (from netcdf4->arviz>=0.9.0->pymc3)\n",
      "  Downloading https://files.pythonhosted.org/packages/c5/24/a50205eb8638480d190df662056a1a04b43a14badb7b926a2d6a0e843ac3/cftime-1.2.1-cp37-none-win_amd64.whl (193kB)\n",
      "Requirement already satisfied: cycler>=0.10 in c:\\programdata\\anaconda3\\lib\\site-packages (from matplotlib>=3.0->arviz>=0.9.0->pymc3) (0.10.0)\n",
      "Requirement already satisfied: kiwisolver>=1.0.1 in c:\\programdata\\anaconda3\\lib\\site-packages (from matplotlib>=3.0->arviz>=0.9.0->pymc3) (1.1.0)\n",
      "Installing collected packages: cftime, netcdf4, xarray, arviz, fastprogress, typing-extensions, pymc3\n",
      "Successfully installed arviz-0.10.0 cftime-1.2.1 fastprogress-1.0.0 netcdf4-1.5.4 pymc3-3.9.3 typing-extensions-3.7.4.3 xarray-0.16.1\n",
      "Note: you may need to restart the kernel to use updated packages.\n"
     ]
    }
   ],
   "source": [
    "pip install pymc3"
   ]
  },
  {
   "cell_type": "markdown",
   "metadata": {},
   "source": [
    "# JUST A TEST!!!\n",
    "# Bayesian Inference with a help of an American Friend"
   ]
  },
  {
   "cell_type": "code",
   "execution_count": 6,
   "metadata": {},
   "outputs": [
    {
     "name": "stderr",
     "output_type": "stream",
     "text": [
      "WARNING (theano.configdefaults): g++ not available, if using conda: `conda install m2w64-toolchain`\n",
      "C:\\ProgramData\\Anaconda3\\lib\\site-packages\\theano\\configdefaults.py:560: UserWarning: DeprecationWarning: there is no c++ compiler.This is deprecated and with Theano 0.11 a c++ compiler will be mandatory\n",
      "  warnings.warn(\"DeprecationWarning: there is no c++ compiler.\"\n",
      "WARNING (theano.configdefaults): g++ not detected ! Theano will be unable to execute optimized C-implementations (for both CPU and GPU) and will default to Python implementations. Performance will be severely degraded. To remove this warning, set Theano flags cxx to an empty string.\n",
      "WARNING (theano.tensor.blas): Using NumPy C-API based implementation for BLAS functions.\n"
     ]
    }
   ],
   "source": [
    "import pandas as pd\n",
    "import numpy as np\n",
    "import matplotlib.pyplot as plt\n",
    "import scipy.stats\n",
    "import pymc3 as pm\n",
    "import theano.tensor as tt\n",
    "import theano\n",
    "import datetime\n",
    "import time\n",
    "import warnings"
   ]
  },
  {
   "cell_type": "markdown",
   "metadata": {},
   "source": [
    "#### My data from CSSE"
   ]
  },
  {
   "cell_type": "code",
   "execution_count": 7,
   "metadata": {},
   "outputs": [],
   "source": [
    "confirmed=pd.read_csv(r'confirmed_global.csv')\n",
    "death=pd.read_csv(r'deaths_global.csv')"
   ]
  },
  {
   "cell_type": "code",
   "execution_count": 8,
   "metadata": {
    "scrolled": true
   },
   "outputs": [
    {
     "data": {
      "text/plain": [
       "RangeIndex(start=0, stop=266, step=1)"
      ]
     },
     "execution_count": 8,
     "metadata": {},
     "output_type": "execute_result"
    }
   ],
   "source": [
    "confirmed.head(5)\n",
    "confirmed.index"
   ]
  },
  {
   "cell_type": "code",
   "execution_count": 9,
   "metadata": {},
   "outputs": [],
   "source": [
    "confirmed.drop(['Province/State','Lat','Long'],axis=1,inplace=True)"
   ]
  },
  {
   "cell_type": "code",
   "execution_count": 10,
   "metadata": {},
   "outputs": [],
   "source": [
    "death.drop(['Province/State','Lat','Long'],axis=1,inplace=True)"
   ]
  },
  {
   "cell_type": "code",
   "execution_count": 11,
   "metadata": {},
   "outputs": [],
   "source": [
    "data_end   = '9/30/20' #Take the data until yesterday\n",
    "data_begin = '1/22/20'\n",
    "num_days_to_predict = 40\n"
   ]
  },
  {
   "cell_type": "code",
   "execution_count": 12,
   "metadata": {},
   "outputs": [],
   "source": [
    "\n",
    "z=confirmed.loc[confirmed['Country/Region'] == 'Australia']"
   ]
  },
  {
   "cell_type": "code",
   "execution_count": 13,
   "metadata": {},
   "outputs": [],
   "source": [
    "m=z.groupby(['Country/Region']).sum()"
   ]
  },
  {
   "cell_type": "code",
   "execution_count": 14,
   "metadata": {},
   "outputs": [
    {
     "ename": "KeyError",
     "evalue": "\"None of ['index'] are in the columns\"",
     "output_type": "error",
     "traceback": [
      "\u001b[1;31m---------------------------------------------------------------------------\u001b[0m",
      "\u001b[1;31mKeyError\u001b[0m                                  Traceback (most recent call last)",
      "\u001b[1;32m<ipython-input-14-e29eebb497d1>\u001b[0m in \u001b[0;36m<module>\u001b[1;34m\u001b[0m\n\u001b[0;32m      1\u001b[0m \u001b[0mm\u001b[0m\u001b[1;33m.\u001b[0m\u001b[0mreset_index\u001b[0m\u001b[1;33m(\u001b[0m\u001b[0mlevel\u001b[0m\u001b[1;33m=\u001b[0m\u001b[1;36m0\u001b[0m\u001b[1;33m,\u001b[0m \u001b[0minplace\u001b[0m\u001b[1;33m=\u001b[0m\u001b[1;32mTrue\u001b[0m\u001b[1;33m)\u001b[0m\u001b[1;33m\u001b[0m\u001b[1;33m\u001b[0m\u001b[0m\n\u001b[1;32m----> 2\u001b[1;33m \u001b[0mm\u001b[0m\u001b[1;33m.\u001b[0m\u001b[0mset_index\u001b[0m\u001b[1;33m(\u001b[0m\u001b[1;34m'index'\u001b[0m\u001b[1;33m,\u001b[0m\u001b[0minplace\u001b[0m\u001b[1;33m=\u001b[0m\u001b[1;32mTrue\u001b[0m\u001b[1;33m)\u001b[0m\u001b[1;33m\u001b[0m\u001b[1;33m\u001b[0m\u001b[0m\n\u001b[0m\u001b[0;32m      3\u001b[0m \u001b[0mm\u001b[0m\u001b[1;33m.\u001b[0m\u001b[0mloc\u001b[0m\u001b[1;33m[\u001b[0m\u001b[1;33m:\u001b[0m\u001b[1;33m,\u001b[0m\u001b[0mdata_begin\u001b[0m\u001b[1;33m:\u001b[0m\u001b[0mdata_end\u001b[0m\u001b[1;33m]\u001b[0m\u001b[1;33m\u001b[0m\u001b[1;33m\u001b[0m\u001b[0m\n",
      "\u001b[1;32mC:\\ProgramData\\Anaconda3\\lib\\site-packages\\pandas\\core\\frame.py\u001b[0m in \u001b[0;36mset_index\u001b[1;34m(self, keys, drop, append, inplace, verify_integrity)\u001b[0m\n\u001b[0;32m   4394\u001b[0m \u001b[1;33m\u001b[0m\u001b[0m\n\u001b[0;32m   4395\u001b[0m         \u001b[1;32mif\u001b[0m \u001b[0mmissing\u001b[0m\u001b[1;33m:\u001b[0m\u001b[1;33m\u001b[0m\u001b[1;33m\u001b[0m\u001b[0m\n\u001b[1;32m-> 4396\u001b[1;33m             \u001b[1;32mraise\u001b[0m \u001b[0mKeyError\u001b[0m\u001b[1;33m(\u001b[0m\u001b[1;34m\"None of {} are in the columns\"\u001b[0m\u001b[1;33m.\u001b[0m\u001b[0mformat\u001b[0m\u001b[1;33m(\u001b[0m\u001b[0mmissing\u001b[0m\u001b[1;33m)\u001b[0m\u001b[1;33m)\u001b[0m\u001b[1;33m\u001b[0m\u001b[1;33m\u001b[0m\u001b[0m\n\u001b[0m\u001b[0;32m   4397\u001b[0m \u001b[1;33m\u001b[0m\u001b[0m\n\u001b[0;32m   4398\u001b[0m         \u001b[1;32mif\u001b[0m \u001b[0minplace\u001b[0m\u001b[1;33m:\u001b[0m\u001b[1;33m\u001b[0m\u001b[1;33m\u001b[0m\u001b[0m\n",
      "\u001b[1;31mKeyError\u001b[0m: \"None of ['index'] are in the columns\""
     ]
    }
   ],
   "source": [
    "m.reset_index(level=0, inplace=True)\n",
    "\n",
    "m.loc[:,data_begin:data_end]"
   ]
  },
  {
   "cell_type": "code",
   "execution_count": 16,
   "metadata": {},
   "outputs": [],
   "source": [
    "data_end   = '4/9/20' #Take the data until yesterday\n",
    "data_begin = '3/20/20'\n",
    "num_days_to_predict = 28\n"
   ]
  },
  {
   "cell_type": "code",
   "execution_count": 17,
   "metadata": {},
   "outputs": [],
   "source": [
    "cases_obs=np.array(m.loc[:,data_begin:data_end])[0]"
   ]
  },
  {
   "cell_type": "code",
   "execution_count": 18,
   "metadata": {},
   "outputs": [
    {
     "data": {
      "text/plain": [
       "21"
      ]
     },
     "execution_count": 18,
     "metadata": {},
     "output_type": "execute_result"
    }
   ],
   "source": [
    "len(cases_obs)"
   ]
  },
  {
   "cell_type": "code",
   "execution_count": 19,
   "metadata": {},
   "outputs": [],
   "source": [
    "with pm.Model() as model:\n",
    "    # true cases at begin of loaded data but we do not know the real number\n",
    "    I_begin = pm.Lognormal(\"I_begin\", mu=np.log(cases_obs[0]), sigma=0.9)"
   ]
  },
  {
   "cell_type": "code",
   "execution_count": null,
   "metadata": {},
   "outputs": [],
   "source": []
  },
  {
   "cell_type": "code",
   "execution_count": 20,
   "metadata": {},
   "outputs": [
    {
     "name": "stdout",
     "output_type": "stream",
     "text": [
      "Cases yesterday (2020-04-09): 6108 and day before yesterday: 6010\n"
     ]
    }
   ],
   "source": [
    "date_data_end = confirmed.loc[confirmed[\"Country/Region\"] == \"Australia\", data_begin:data_end].columns[-1]\n",
    "month, day, year = map(int,date_data_end.split('/'))\n",
    "date_data_end = datetime.date(year+2000, month, day)\n",
    "date_today = date_data_end + datetime.timedelta(days=1)\n",
    "print('Cases yesterday ({}): {} and day before yesterday: {}'.format(date_data_end.isoformat(), *cases_obs[:-3:-1]))\n",
    "num_days = len(cases_obs)\n",
    "np.random.seed(0)"
   ]
  },
  {
   "cell_type": "code",
   "execution_count": 21,
   "metadata": {},
   "outputs": [],
   "source": [
    "def SIR_model(spread_rate, rec_rate, S_begin, I_begin, N):\n",
    "    new_I_0 = tt.zeros_like(I_begin)\n",
    "    def next_day(spread_rate, S_t, I_t, _):\n",
    "        new_I_t = spread_rate/N*I_t*S_t\n",
    "        S_t = S_t - new_I_t\n",
    "        I_t = I_t + new_I_t - rec_rate * I_t\n",
    "        return S_t, I_t, new_I_t\n",
    "    outputs , _  = theano.scan(fn=next_day, sequences=[spread_rate], \n",
    "                               outputs_info=[S_begin, I_begin, new_I_0])\n",
    "    S_all, I_all, new_I_all = outputs\n",
    "    return S_all, I_all, new_I_all"
   ]
  },
  {
   "cell_type": "code",
   "execution_count": 22,
   "metadata": {},
   "outputs": [
    {
     "name": "stderr",
     "output_type": "stream",
     "text": [
      "Auto-assigning NUTS sampler...\n",
      "Initializing NUTS using jitter+adapt_diag...\n",
      "Multiprocess sampling (2 chains in 4 jobs)\n",
      "NUTS: [delay, σ_obs, μ, λ, I_begin]\n"
     ]
    },
    {
     "data": {
      "text/html": [
       "\n",
       "    <div>\n",
       "        <style>\n",
       "            /* Turns off some styling */\n",
       "            progress {\n",
       "                /* gets rid of default border in Firefox and Opera. */\n",
       "                border: none;\n",
       "                /* Needs to be in here for Safari polyfill so background images work as expected. */\n",
       "                background-size: auto;\n",
       "            }\n",
       "            .progress-bar-interrupted, .progress-bar-interrupted::-webkit-progress-bar {\n",
       "                background: #F44336;\n",
       "            }\n",
       "        </style>\n",
       "      <progress value='2600' class='' max='2600' style='width:300px; height:20px; vertical-align: middle;'></progress>\n",
       "      100.00% [2600/2600 04:43<00:00 Sampling 2 chains, 0 divergences]\n",
       "    </div>\n",
       "    "
      ],
      "text/plain": [
       "<IPython.core.display.HTML object>"
      ]
     },
     "metadata": {},
     "output_type": "display_data"
    },
    {
     "name": "stderr",
     "output_type": "stream",
     "text": [
      "Sampling 2 chains for 800 tune and 500 draw iterations (1_600 + 1_000 draws total) took 292 seconds.\n",
      "The number of effective samples is smaller than 25% for some parameters.\n"
     ]
    },
    {
     "name": "stdout",
     "output_type": "stream",
     "text": [
      "Model run in 302.65 s\n"
     ]
    }
   ],
   "source": [
    "with pm.Model() as model:\n",
    "    # true cases at begin of loaded data but we do not know the real number\n",
    "    I_begin = pm.Lognormal(\"I_begin\", mu=np.log(cases_obs[0]), sigma=0.9)\n",
    "\n",
    "    # fraction of people that are newly infected each day\n",
    "    Spread_rate = pm.Lognormal(\"Spread_rate\", mu=np.log(0.4), sigma=0.5)\n",
    "\n",
    "    # fraction of people that recover each day, recovery rate mu\n",
    "    rec_rate = pm.Lognormal('rec_rate', mu=np.log(1/8), sigma=0.2)\n",
    "\n",
    "    # prior of the error of observed cases\n",
    "    σ_obs = pm.HalfCauchy(\"σ_obs\", beta=1)\n",
    "\n",
    "    N_au = 83.7e6\n",
    "\n",
    "    # -------------------------------------------------------------------------- #\n",
    "    # training the model with loaded data\n",
    "    # -------------------------------------------------------------------------- #\n",
    "\n",
    "    S_begin = N_au - I_begin\n",
    "    S_past, I_past, new_I_past = SIR_model(Spread_rate=Spread_rate * tt.ones(num_days-1), rec_rate=rec_rate, \n",
    "                                               S_begin=S_begin, I_begin=I_begin,\n",
    "                                               N=N_au)\n",
    "    new_infections_obs = np.diff(cases_obs)\n",
    "\n",
    "    # Approximates Poisson\n",
    "    # calculate the likelihood of the model:\n",
    "    # observed cases are distributed following studentT around the model\n",
    "\n",
    "    pm.StudentT(\n",
    "        \"obs\",\n",
    "        nu=4,\n",
    "        mu=new_I_past,\n",
    "        sigma=new_I_past ** 0.5 * σ_obs,\n",
    "        observed=new_infections_obs\n",
    "        )  \n",
    "    \n",
    "    S_past = pm.Deterministic('S_past', S_past)\n",
    "    I_past = pm.Deterministic('I_past', I_past)\n",
    "    new_I_past = pm.Deterministic('new_I_past', new_I_past)\n",
    "\n",
    "    # -------------------------------------------------------------------------- #\n",
    "    # prediction, start with no changes in policy\n",
    "    # -------------------------------------------------------------------------- #\n",
    "    \n",
    "    # delay in days between contracting the disease and being recorded\n",
    "    delay = pm.Lognormal(\"delay\", mu=np.log(8), sigma=0.1)\n",
    "\n",
    "    S_begin = S_past[-1]\n",
    "    I_begin = I_past[-1]\n",
    "    forecast_no_change = SIR_model(Spread_rate=Spread_rate*tt.ones(num_days_to_predict), rec_rate=rec_rate, \n",
    "                        S_begin=S_begin, I_begin=I_begin, N=N_au)\n",
    "    S_no_change, I_no_change, new_I_no_change = forecast_no_change\n",
    "\n",
    "    #saves the variables for later retrieval\n",
    "    pm.Deterministic('S_no_change', S_no_change)\n",
    "    pm.Deterministic('I_no_change', I_no_change)\n",
    "    pm.Deterministic('new_I_no_change', new_I_no_change)\n",
    "\n",
    "    # -------------------------------------------------------------------------- #\n",
    "    # social distancing, m reduced by about 50 percent\n",
    "    # -------------------------------------------------------------------------- #\n",
    "    #For all following predictions:\n",
    "    length_transient = 7  # days\n",
    "\n",
    "\n",
    "    # Spread_rate is decreased by 50%\n",
    "    reduc_factor_mild = 0.5\n",
    "    days_offset = 0  # start the decrease in spreading rate after this\n",
    "\n",
    "    time_arr = np.arange(num_days_to_predict)\n",
    "\n",
    "    # change in m along time\n",
    "    Spread_rate_correction = tt.clip((time_arr - delay - days_offset + 1) / length_transient, 0, 1)\n",
    "    Spread_rate_t_soc_dist= Spread_rate * (1 - Spread_rate_correction * reduc_factor_mild) \n",
    "\n",
    "    S_begin = S_past[-1]\n",
    "    I_begin = I_past[-1]\n",
    "    forecast_soc_dist = SIR_model(Spread_rate=Spread_rate_t_soc_dist, rec_rate=rec_rate, \n",
    "                        S_begin=S_begin, I_begin=I_begin, \n",
    "                        N=N_au)\n",
    "    S_soc_dist, I_soc_dist, new_I_soc_dist = forecast_soc_dist\n",
    "    pm.Deterministic('S_soc_dist', S_soc_dist)\n",
    "    pm.Deterministic('I_soc_dist', I_soc_dist)\n",
    "    pm.Deterministic('new_I_soc_dist', new_I_soc_dist)\n",
    "\n",
    "    # -------------------------------------------------------------------------- #\n",
    "    # isolation, almost no new infections besides baseline after transient phase\n",
    "    # -------------------------------------------------------------------------- #\n",
    "\n",
    "    # Spread_rate is decreased by 90%\n",
    "    reduc_factor_strong = 0.9\n",
    "    days_offset = 0  # start the decrease in spreading rate after this\n",
    "\n",
    "    # spreading of people who transmit although they are isolated\n",
    "    time_arr = np.arange(num_days_to_predict)\n",
    "\n",
    "    # change in Spread_rate along time\n",
    "    Spread_rate_correction = tt.clip((time_arr - delay - days_offset+1) / length_transient, 0, 1)\n",
    "    Spread_rate_t_isol= Spread_rate * (1 - Spread_rate_correction * reduc_factor_strong)\n",
    "\n",
    "    S_begin = S_past[-1]\n",
    "    I_begin = I_past[-1]\n",
    "    forecast_isol = SIR_model(Spread_rate=Spread_rate_t_isol , rec_rate=rec_rate, \n",
    "                              S_begin=S_begin, I_begin=I_begin, \n",
    "                              N=N_au)\n",
    "    S_isol, I_isol, new_I_isol = forecast_isol\n",
    "\n",
    "    pm.Deterministic('S_isol', S_isol)\n",
    "    pm.Deterministic('I_isol', I_isol)  \n",
    "    pm.Deterministic('new_I_isol', new_I_isol)\n",
    "\n",
    "    # -------------------------------------------------------------------------- #\n",
    "    # isolation 5 days later, almost no new infections besides baseline after transient phase\n",
    "    # -------------------------------------------------------------------------- #\n",
    "\n",
    "    # Spread_rate is decreased by 90%\n",
    "    reduc_factor_strong = 0.9\n",
    "    days_offset = 5  # start the decrease in spreading rate after this\n",
    "\n",
    "    # spreading of people who transmit although they are isolated\n",
    "    time_arr = np.arange(num_days_to_predict)\n",
    "\n",
    "    # change in Spread_rate along time\n",
    "    Spread_rate_correction = tt.clip((time_arr - delay - days_offset+1) / length_transient, 0, 1)\n",
    "    Spread_rate_t_isol_later= Spread_rate * (1 - Spread_rate_correction * reduc_factor_strong) \n",
    "\n",
    "    S_begin = S_past[-1]\n",
    "    I_S_beginbegin = I_past[-1]\n",
    "    forecast_isol_later = SIR_model(Spread_rate=Spread_rate_t_isol_later, rec_rate=rec_rate, \n",
    "                         S_begin=S_begin, I_begin=I_begin, \n",
    "                         N=N_au)\n",
    "    S_isol_later, I_isol_later, new_I_isol_later = forecast_isol_later\n",
    "\n",
    "    pm.Deterministic('S_isol_later', S_isol_later)\n",
    "    pm.Deterministic('I_isol_later', I_isol_later)  \n",
    "    pm.Deterministic('new_I_isol_later', new_I_isol_later)\n",
    "\n",
    "\n",
    "    # -------------------------------------------------------------------------- #\n",
    "    # isolation 7 days earlyier, almost no new infections besides baseline after transient phase\n",
    "    # -------------------------------------------------------------------------- #\n",
    "\n",
    "    # Spread_rate is decreased by 90%\n",
    "    reduc_factor_strong = 0.9\n",
    "    days_offset = -5  # start the decrease in spreading rate after this\n",
    "\n",
    "    # spreading of people who transmit although they are isolated\n",
    "    time_arr = np.arange(num_days_to_predict)\n",
    "\n",
    "    # change in Spread_rate along time\n",
    "    Spread_rate_correction = tt.clip((time_arr - delay - days_offset+1) / length_transient, 0, 1)\n",
    "    Spread_rate_t_isol_earlyier= Spread_rate * (1 - Spread_rate_correction * reduc_factor_strong) \n",
    "\n",
    "    S_begin = S_past[-1]\n",
    "    I_S_begin = I_past[-1]\n",
    "    forecast_isol_earlyier = SIR_model(Spread_rate=Spread_rate_t_isol_earlyier, rec_rate=rec_rate, \n",
    "                         S_begin=S_begin, I_begin=I_begin, \n",
    "                         N=N_au)\n",
    "    S_isol_earlyier, I_isol_earlyier, new_I_isol_earlyier = forecast_isol_earlyier\n",
    "\n",
    "    pm.Deterministic('S_isol_earlyier', S_isol_earlyier)\n",
    "    pm.Deterministic('I_isol_earlyier', I_isol_earlyier)  \n",
    "    pm.Deterministic('new_I_isol_earlyier', new_I_isol_earlyier)\n",
    "\n",
    "    # -------------------------------------------------------------------------- #\n",
    "    # run model, pm trains and predicts when calling this\n",
    "    # -------------------------------------------------------------------------- #\n",
    "\n",
    "    time_beg = time.time()\n",
    "    trace = pm.sample(draws=500, tune=800, chains=2)\n",
    "    print(\"Model run in {:.2f} s\".format(time.time() - time_beg))"
   ]
  },
  {
   "cell_type": "code",
   "execution_count": 23,
   "metadata": {},
   "outputs": [
    {
     "data": {
      "text/plain": [
       "<matplotlib.legend.Legend at 0x20b2e612cc8>"
      ]
     },
     "execution_count": 23,
     "metadata": {},
     "output_type": "execute_result"
    },
    {
     "data": {
      "image/png": "[encoded data removed]",
      "text/plain": [
       "<Figure size 324x252 with 1 Axes>"
      ]
     },
     "metadata": {
      "needs_background": "light"
     },
     "output_type": "display_data"
    },
    {
     "data": {
      "image/png": "[encoded data removed]",
      "text/plain": [
       "<Figure size 324x252 with 1 Axes>"
      ]
     },
     "metadata": {
      "needs_background": "light"
     },
     "output_type": "display_data"
    },
    {
     "data": {
      "image/png": "[encoded data removed]",
      "text/plain": [
       "<Figure size 324x252 with 1 Axes>"
      ]
     },
     "metadata": {
      "needs_background": "light"
     },
     "output_type": "display_data"
    }
   ],
   "source": [
    "\n",
    "time = np.arange(-len(cases_obs)+2, 1)\n",
    "plt.figure(figsize=(4.5,3.5))\n",
    "plt.plot(time, np.diff(cases_obs), label='data')\n",
    "percentiles = np.percentile(trace.new_I_past, q=12.5, axis=0), np.percentile(trace.new_I_past, q=87.5, axis=0)\n",
    "plt.plot(time, np.median(trace.new_I_past, axis=0),color='tab:orange', label='Fit (with 75% CI)')\n",
    "#print(percentiles)\n",
    "plt.fill_between(time, percentiles[0], percentiles[1], alpha=0.3, color='tab:orange')\n",
    "plt.yscale('log')\n",
    "plt.ylabel('Number of new infections')\n",
    "plt.xlabel('Days from now')\n",
    "plt.legend()\n",
    "\n",
    "#print(trace.new_I_past[-1])\n",
    "#print(trace.new_I_isol[-1])\n",
    "#print(trace.new_I_no_chan  ge[-1])\n",
    "plt.figure(figsize=(4.5,3.5))\n",
    "plt.hist(trace.σ_obs, bins=50)\n",
    "plt.ylabel('Number of MCMC samples')\n",
    "plt.xlabel('Width $\\sigma$ of Student T')\n",
    "\n",
    "plt.figure(figsize=(4.5,3.5))\n",
    "plt.plot(time, np.abs(np.median(trace.new_I_past, axis=0) - np.diff(cases_obs)),\n",
    "         label='Absolute difference between fit and data')\n",
    "plt.plot(time, np.sqrt(np.median(trace.new_I_past, axis=0))*np.median(trace.σ_obs, axis=0),\n",
    "         label='Error of the model')\n",
    "plt.ylabel('Error')\n",
    "plt.xlabel('Days from now')\n",
    "plt.legend(loc='upper left')"
   ]
  },
  {
   "cell_type": "code",
   "execution_count": 24,
   "metadata": {},
   "outputs": [
    {
     "data": {
      "image/png": "[encoded data removed]",
      "text/plain": [
       "<Figure size 396x252 with 1 Axes>"
      ]
     },
     "metadata": {
      "needs_background": "light"
     },
     "output_type": "display_data"
    },
    {
     "data": {
      "image/png": "[encoded data removed]",
      "text/plain": [
       "<Figure size 324x252 with 1 Axes>"
      ]
     },
     "metadata": {
      "needs_background": "light"
     },
     "output_type": "display_data"
    }
   ],
   "source": [
    "import matplotlib\n",
    "\n",
    "day_begin = date_data_end - datetime.timedelta(days = num_days)\n",
    "\n",
    "plt.figure(figsize=(5.5,3.5))\n",
    "bins = np.linspace(-0.15, 0.38, 200)\n",
    "plt.hist(trace.λ - trace.μ, bins=bins, \n",
    "         label='spread inferred from data\\nfrom {} to {}'.format(day_begin.isoformat(), date_data_end.isoformat()))\n",
    "plt.hist(np.maximum(trace.λ*(1-reduc_factor_mild) ,0) - trace.μ, bins=bins,\n",
    "         label='spread assumed for mild social distancing\\n $\\\\approx 0.5 \\\\cdot \\\\lambda_{fitted} - \\mu $')\n",
    "plt.hist(np.maximum(trace.λ*(1-reduc_factor_strong),0) - trace.μ, bins=bins, \n",
    "         label='spread assumed for strong social distancing')\n",
    "plt.xlabel('Effective spread $\\lambda - \\mu$')\n",
    "plt.ylabel('Number of Monte-Carlo samples')\n",
    "plt.legend()\n",
    "plt.savefig('Distributions_of_m.png', dpi=200)\n",
    "\n",
    "plt.figure(figsize=(4.5,3.5))\n",
    "#bins = np.linspace(-0.11, 0.304, 200)\n",
    "plt.hist((trace.λ - trace.μ)*100, bins=50)\n",
    "plt.xlabel('Effective spread $\\lambda - \\mu$ (%)\\ninferred from data - from {} to {}'.format(day_begin.isoformat(), date_data_end.isoformat()))\n",
    "plt.ylabel('Number of Monte-Carlo samples')\n",
    "plt.tight_layout()\n",
    "plt.savefig('Distributions_of_fitted_m.png', dpi=200)"
   ]
  },
  {
   "cell_type": "code",
   "execution_count": 1,
   "metadata": {},
   "outputs": [
    {
     "ename": "NameError",
     "evalue": "name 'date_today' is not defined",
     "output_type": "error",
     "traceback": [
      "\u001b[1;31m---------------------------------------------------------------------------\u001b[0m",
      "\u001b[1;31mNameError\u001b[0m                                 Traceback (most recent call last)",
      "\u001b[1;32m<ipython-input-1-1d879dba3008>\u001b[0m in \u001b[0;36m<module>\u001b[1;34m\u001b[0m\n\u001b[0;32m     26\u001b[0m                     'new_I_isol', 'new_I_isol_later', 'new_I_isol_earlyier']\n\u001b[0;32m     27\u001b[0m \u001b[1;33m\u001b[0m\u001b[0m\n\u001b[1;32m---> 28\u001b[1;33m \u001b[0mdate_today_formatted\u001b[0m \u001b[1;33m=\u001b[0m \u001b[1;34m'{}/{}/{}'\u001b[0m\u001b[1;33m.\u001b[0m\u001b[0mformat\u001b[0m\u001b[1;33m(\u001b[0m\u001b[0mdate_today\u001b[0m\u001b[1;33m.\u001b[0m\u001b[0mmonth\u001b[0m\u001b[1;33m,\u001b[0m \u001b[0mdate_today\u001b[0m\u001b[1;33m.\u001b[0m\u001b[0mday\u001b[0m\u001b[1;33m,\u001b[0m \u001b[0mstr\u001b[0m\u001b[1;33m(\u001b[0m\u001b[0mdate_today\u001b[0m\u001b[1;33m.\u001b[0m\u001b[0myear\u001b[0m\u001b[1;33m)\u001b[0m\u001b[1;33m[\u001b[0m\u001b[1;36m2\u001b[0m\u001b[1;33m:\u001b[0m\u001b[1;36m4\u001b[0m\u001b[1;33m]\u001b[0m\u001b[1;33m)\u001b[0m\u001b[1;33m\u001b[0m\u001b[1;33m\u001b[0m\u001b[0m\n\u001b[0m\u001b[0;32m     29\u001b[0m \u001b[0mcases_obs_to_plot\u001b[0m \u001b[1;33m=\u001b[0m \u001b[0mnp\u001b[0m\u001b[1;33m.\u001b[0m\u001b[0marray\u001b[0m\u001b[1;33m(\u001b[0m\u001b[0mconfirmed\u001b[0m\u001b[1;33m.\u001b[0m\u001b[0mloc\u001b[0m\u001b[1;33m[\u001b[0m\u001b[0mconfirmed\u001b[0m\u001b[1;33m[\u001b[0m\u001b[1;34m'Country/Region'\u001b[0m\u001b[1;33m]\u001b[0m \u001b[1;33m==\u001b[0m \u001b[1;34m'Aussie'\u001b[0m\u001b[1;33m,\u001b[0m \u001b[1;34m'3/9/20'\u001b[0m\u001b[1;33m:\u001b[0m\u001b[0mdate_today_formatted\u001b[0m\u001b[1;33m]\u001b[0m\u001b[1;33m)\u001b[0m\u001b[1;33m[\u001b[0m\u001b[1;36m0\u001b[0m\u001b[1;33m]\u001b[0m\u001b[1;33m\u001b[0m\u001b[1;33m\u001b[0m\u001b[0m\n\u001b[0;32m     30\u001b[0m \u001b[0mcases_obs_to_plot_future\u001b[0m \u001b[1;33m=\u001b[0m \u001b[0mnp\u001b[0m\u001b[1;33m.\u001b[0m\u001b[0marray\u001b[0m\u001b[1;33m(\u001b[0m\u001b[0mconfirmed\u001b[0m\u001b[1;33m.\u001b[0m\u001b[0mloc\u001b[0m\u001b[1;33m[\u001b[0m\u001b[0mconfirmed\u001b[0m\u001b[1;33m[\u001b[0m\u001b[1;34m'Country/Region'\u001b[0m\u001b[1;33m]\u001b[0m \u001b[1;33m==\u001b[0m \u001b[1;34m'Aussie'\u001b[0m\u001b[1;33m,\u001b[0m \u001b[0mdate_today_formatted\u001b[0m\u001b[1;33m:\u001b[0m\u001b[1;33m]\u001b[0m\u001b[1;33m)\u001b[0m\u001b[1;33m[\u001b[0m\u001b[1;36m0\u001b[0m\u001b[1;33m]\u001b[0m\u001b[1;33m\u001b[0m\u001b[1;33m\u001b[0m\u001b[0m\n",
      "\u001b[1;31mNameError\u001b[0m: name 'date_today' is not defined"
     ]
    }
   ],
   "source": [
    "legends_lang = {\n",
    "   \n",
    "    \"english\": [\n",
    "        # bottom left\n",
    "        \"confirmed cases\",\n",
    "        [\n",
    "            \"uncontrolled spreading\",\n",
    "            \"mild social distancing\",\n",
    "            \"strong social distancing\",\n",
    "            \"strong social distancing\\nstarting at day -5\",\n",
    "        ],\n",
    "        \"Days since intervention\",\n",
    "        \"Total confirmed cases in Ausse\",\n",
    "        \"Start of intervention\",\n",
    "        # bottom right\n",
    "        'confirmed cases',['strong social distancing:',\n",
    "                           '  starting at day 0', \n",
    "                           '  starting at day 5',\n",
    "                           \"  starting at day -5\"],\n",
    "        'Days since intervention',\n",
    "        'Total confirmed cases in Aussie',\n",
    "        'Start of intervention',\n",
    "    ],\n",
    "}\n",
    "obs_cases_labels = ['new_I_no_change', 'new_I_soc_dist', \n",
    "                    'new_I_isol', 'new_I_isol_later', 'new_I_isol_earlyier']\n",
    "\n",
    "date_today_formatted = '{}/{}/{}'.format(date_today.month, date_today.day, str(date_today.year)[2:4])\n",
    "cases_obs_to_plot = np.array(confirmed.loc[confirmed['Country/Region'] == 'Aussie', '3/9/20':date_today_formatted])[0]\n",
    "cases_obs_to_plot_future = np.array(confirmed.loc[confirmed['Country/Region'] == 'Aussie', date_today_formatted:])[0]\n",
    "\n",
    "\n",
    "def return_obs_cases_future(trace):\n",
    "  obs_cases_future = dict()\n",
    "  for label in obs_cases_labels:\n",
    "    obs_cases_future[label] = np.cumsum(trace[label], axis=1) + \\\n",
    "        np.sum(trace.new_I_past, axis=1)[:, None] + trace.I_begin[:, None]\n",
    "    obs_cases_future[label] = obs_cases_future[label].T\n",
    "  return obs_cases_future\n",
    "\n",
    "obs_cases_labels_local = obs_cases_labels[:]\n",
    "obs_cases_labels_local.pop(3)\n",
    "\n",
    "for lang, legends_list in legends_lang.items():\n",
    "    fig, axes = plt.subplots(nrows=1, ncols=2, figsize=[9, 3.6])\n",
    "\n",
    "    # bottom left\n",
    "    colors = [\"tab:red\", \"tab:orange\", \"tab:green\", \"gray\"]\n",
    "    dict_obsc_cases = return_obs_cases_future(trace)\n",
    "    ax = axes[0]\n",
    "\n",
    "    time = np.arange(-len(cases_obs_to_plot)+1, 1)\n",
    "    ax.plot(time, cases_obs_to_plot, label=legends_list[0], linewidth=3, color='tab:blue', \n",
    "                zorder=5)\n",
    "    time = np.arange(0, len(cases_obs_to_plot_future))\n",
    "    ax.plot(time, cases_obs_to_plot_future, '.', markersize=5, color='tab:blue', \n",
    "            zorder=5)\n",
    "\n",
    "\n",
    "    for label, color, legend in zip(obs_cases_labels_local, colors, legends_list[1]):\n",
    "        time = np.arange(0, num_days_to_predict)\n",
    "        cases = dict_obsc_cases[label]\n",
    "        #cases = np.concatenate([np.ones((1,cases.shape[1]))*cases_obs[-1], cases], axis=0)\n",
    "\n",
    "        median = np.median(cases, axis=-1)\n",
    "        percentiles = (\n",
    "            np.percentile(cases, q=2.5, axis=-1),\n",
    "            np.percentile(cases, q=97.5, axis=-1),\n",
    "        )\n",
    "        ax.plot(time, median, color, linewidth=3, label=legend)\n",
    "        ax.fill_between(time, percentiles[0], percentiles[1], alpha=0.08, color=color)\n",
    "\n",
    "    ax.set_xlim(-14, 21)\n",
    "    ax.set_ylim(0, 400_000)\n",
    "    ax.set_yscale(\"linear\")\n",
    "    ax.set_xlabel(legends_list[2])\n",
    "    ax.set_ylabel(legends_list[3])\n",
    "    # ax.locator_params(axis='y', nbins=4)\n",
    "    ax.legend(loc=\"upper left\")\n",
    "    ax.set_xticks([-14, -7, 0, 7, 14, 21])\n",
    "    ax.locator_params(nbins=4, axis=\"y\")\n",
    "    func_format = lambda num, _: \"${:,.0f}$\".format(num).replace(\",\", \"\\,\")\n",
    "    ax.yaxis.set_major_formatter(matplotlib.ticker.FuncFormatter(func_format))\n",
    "    ax.text(-0.29, 0.98, \"A\", transform=ax.transAxes, size=20)\n",
    "\n",
    "    ax.annotate(\n",
    "        legends_list[4],\n",
    "        xy=(0.0, 20_000),\n",
    "        xycoords=\"data\",\n",
    "        xytext=(0.35, 0.4),\n",
    "        textcoords=\"axes fraction\",\n",
    "        size=14,\n",
    "        va=\"center\",\n",
    "        ha=\"center\",\n",
    "        arrowprops=dict(\n",
    "            arrowstyle=\"simple\", connectionstyle=\"arc3,rad=-0.2\", fc=\"black\"\n",
    "        ),\n",
    "    )\n",
    "\n",
    "    ax.annotate(\n",
    "        \"\",\n",
    "        xy=(-5.0, 15_000),\n",
    "        xycoords=\"data\",\n",
    "        xytext=(0.32, 0.35),\n",
    "        textcoords=\"axes fraction\",\n",
    "        size=14,\n",
    "        va=\"center\",\n",
    "        ha=\"center\",\n",
    "        arrowprops=dict(\n",
    "            arrowstyle=\"simple\", connectionstyle=\"arc3,rad=-0.2\", fc=colors[3]\n",
    "        ),\n",
    "    )\n",
    "\n",
    "    # bottom right\n",
    "\n",
    "    f_alone, ax_alone = plt.subplots(figsize=(4.7,3.4))\n",
    "    for i, (ax, f) in enumerate(((axes[1],fig), (ax_alone, f_alone))):\n",
    "        colors = [\"tab:green\", \"fuchsia\", 'gray']\n",
    "        time = np.arange(-len(cases_obs_to_plot)+1, 1)\n",
    "        ax.plot(time, cases_obs_to_plot, label=legends_list[5], linewidth=3, color='tab:blue', \n",
    "                    zorder=5)\n",
    "        time = np.arange(0, len(cases_obs_to_plot_future))\n",
    "        ax.plot(time, cases_obs_to_plot_future, '.', markersize=5, color='tab:blue', \n",
    "                zorder=5)\n",
    "        time = np.arange(-len(cases_obs) + 1, 1)\n",
    "\n",
    "        dict_obsc_cases = return_obs_cases_future(trace)\n",
    "        ax.plot([], [], alpha=0, label=legends_list[6][0])\n",
    "        for label, color, legend in zip(obs_cases_labels[2:], colors, legends_list[6][1:]):\n",
    "            time = np.arange(num_days_to_predict)\n",
    "            cases = dict_obsc_cases[label]\n",
    "            #cases = np.concatenate(\n",
    "            #    [np.ones((1, cases.shape[1])) * cases_obs[-1], cases], axis=0\n",
    "            #)\n",
    "            median = np.median(cases, axis=-1)\n",
    "            percentiles = (\n",
    "                np.percentile(cases, q=2.5, axis=-1),\n",
    "                np.percentile(cases, q=97.5, axis=-1),\n",
    "            )\n",
    "            ax.plot(time, median, color, linewidth=3, label=legend)\n",
    "            ax.fill_between(time, percentiles[0], percentiles[1], alpha=0.08, color=color)\n",
    "\n",
    "        ax.set_xlim(-14, 21)\n",
    "        ax.set_ylim(0, 400_000)\n",
    "        ax.set_yscale(\"linear\")\n",
    "        ax.set_xlabel(legends_list[7])\n",
    "        ax.set_ylabel(legends_list[8])\n",
    "        ax.locator_params(axis=\"y\", nbins=4)\n",
    "        ax.legend(loc=\"upper left\")\n",
    "        ax.set_xticks([-14, -7, 0, 7, 14, 21])\n",
    "        func_format = lambda num, _: \"${:,.0f}$\".format(num).replace(\",\", \"\\,\")\n",
    "        ax.yaxis.set_major_formatter(matplotlib.ticker.FuncFormatter(func_format))\n",
    "\n",
    "        ax.annotate(\n",
    "            legends_list[9],\n",
    "            xy=(0.0, 20_000),\n",
    "            xycoords=\"data\",\n",
    "            xytext=(0.35, 0.4),\n",
    "            textcoords=\"axes fraction\",\n",
    "            size=14,\n",
    "            va=\"center\",\n",
    "            ha=\"center\",\n",
    "            arrowprops=dict(\n",
    "                arrowstyle=\"simple\", connectionstyle=\"arc3,rad=-0.15\", fc=colors[0]\n",
    "            ),\n",
    "        )\n",
    "        ax.annotate(\n",
    "            \"\",\n",
    "            xy=(5.0, 40_000),\n",
    "            xycoords=\"data\",\n",
    "            xytext=(0.4, 0.35),\n",
    "            textcoords=\"axes fraction\",\n",
    "            size=14,\n",
    "            va=\"center\",\n",
    "            ha=\"center\",\n",
    "            arrowprops=dict(\n",
    "                arrowstyle=\"simple\", connectionstyle=\"arc3,rad=-0.2\", fc=colors[1]\n",
    "            ),\n",
    "        )\n",
    "\n",
    "        ax.annotate(\n",
    "            \"\",\n",
    "            xy=(-5.0, 15_000),\n",
    "            xycoords=\"data\",\n",
    "            xytext=(0.32, 0.35),\n",
    "            textcoords=\"axes fraction\",\n",
    "            size=14,\n",
    "            va=\"center\",\n",
    "            ha=\"center\",\n",
    "            arrowprops=dict(\n",
    "                arrowstyle=\"simple\", connectionstyle=\"arc3,rad=-0.2\", fc=colors[2]\n",
    "            ),\n",
    "        )\n",
    "        if i == 0:\n",
    "            axes[1].text(-0.29, 0.98, \"B\", transform=ax.transAxes, size=20)\n",
    "\n",
    "        f.tight_layout()\n",
    "\n",
    "\n",
    "    # wrapping up\n",
    "    fig.savefig(\n",
    "        path_to_save + \"cumulative_corona_aus_combined_{}.png\".format(lang), dpi=300\n",
    "    )\n",
    "    #f_alone.tight_layout()\n",
    "    f_alone.savefig(\n",
    "        path_to_save + \"cumulative_corona_aus_right_{}.png\".format(lang), dpi=300\n",
    "    )\n",
    "\n",
    "print('effective m: {:.3f} +- {:.3f}'.format(1+np.median(trace.λ - trace.μ), np.std(trace.λ - trace.μ)))"
   ]
  },
  {
   "cell_type": "code",
   "execution_count": null,
   "metadata": {},
   "outputs": [],
   "source": []
  },
  {
   "cell_type": "code",
   "execution_count": null,
   "metadata": {},
   "outputs": [],
   "source": []
  },
  {
   "cell_type": "code",
   "execution_count": 25,
   "metadata": {},
   "outputs": [],
   "source": [
    "confirmed = confirmed[confirmed['Country/Region'] =='Australia']\n",
    "new_row = confirmed.loc[:,'1/22/20':].sum(axis=0)\n",
    "confirmed= confirmed.append(new_row, ignore_index=True)\n",
    "confirmed['Country/Region'].fillna('Aussie', inplace=True)\n",
    "confirmed=confirmed[confirmed['Country/Region']!='Australia']"
   ]
  },
  {
   "cell_type": "code",
   "execution_count": 26,
   "metadata": {},
   "outputs": [
    {
     "data": {
      "text/html": [
       "<div>\n",
       "<style scoped>\n",
       "    .dataframe tbody tr th:only-of-type {\n",
       "        vertical-align: middle;\n",
       "    }\n",
       "\n",
       "    .dataframe tbody tr th {\n",
       "        vertical-align: top;\n",
       "    }\n",
       "\n",
       "    .dataframe thead th {\n",
       "        text-align: right;\n",
       "    }\n",
       "</style>\n",
       "<table border=\"1\" class=\"dataframe\">\n",
       "  <thead>\n",
       "    <tr style=\"text-align: right;\">\n",
       "      <th></th>\n",
       "      <th>Country/Region</th>\n",
       "      <th>1/22/20</th>\n",
       "      <th>1/23/20</th>\n",
       "      <th>1/24/20</th>\n",
       "      <th>1/25/20</th>\n",
       "      <th>1/26/20</th>\n",
       "      <th>1/27/20</th>\n",
       "      <th>1/28/20</th>\n",
       "      <th>1/29/20</th>\n",
       "      <th>1/30/20</th>\n",
       "      <th>...</th>\n",
       "      <th>9/21/20</th>\n",
       "      <th>9/22/20</th>\n",
       "      <th>9/23/20</th>\n",
       "      <th>9/24/20</th>\n",
       "      <th>9/25/20</th>\n",
       "      <th>9/26/20</th>\n",
       "      <th>9/27/20</th>\n",
       "      <th>9/28/20</th>\n",
       "      <th>9/29/20</th>\n",
       "      <th>9/30/20</th>\n",
       "    </tr>\n",
       "  </thead>\n",
       "  <tbody>\n",
       "    <tr>\n",
       "      <td>8</td>\n",
       "      <td>Aussie</td>\n",
       "      <td>0.0</td>\n",
       "      <td>0.0</td>\n",
       "      <td>0.0</td>\n",
       "      <td>0.0</td>\n",
       "      <td>4.0</td>\n",
       "      <td>5.0</td>\n",
       "      <td>5.0</td>\n",
       "      <td>6.0</td>\n",
       "      <td>9.0</td>\n",
       "      <td>...</td>\n",
       "      <td>26942.0</td>\n",
       "      <td>26972.0</td>\n",
       "      <td>26980.0</td>\n",
       "      <td>27000.0</td>\n",
       "      <td>27016.0</td>\n",
       "      <td>27040.0</td>\n",
       "      <td>27044.0</td>\n",
       "      <td>27055.0</td>\n",
       "      <td>27078.0</td>\n",
       "      <td>27096.0</td>\n",
       "    </tr>\n",
       "  </tbody>\n",
       "</table>\n",
       "<p>1 rows × 254 columns</p>\n",
       "</div>"
      ],
      "text/plain": [
       "  Country/Region  1/22/20  1/23/20  1/24/20  1/25/20  1/26/20  1/27/20  \\\n",
       "8         Aussie      0.0      0.0      0.0      0.0      4.0      5.0   \n",
       "\n",
       "   1/28/20  1/29/20  1/30/20  ...  9/21/20  9/22/20  9/23/20  9/24/20  \\\n",
       "8      5.0      6.0      9.0  ...  26942.0  26972.0  26980.0  27000.0   \n",
       "\n",
       "   9/25/20  9/26/20  9/27/20  9/28/20  9/29/20  9/30/20  \n",
       "8  27016.0  27040.0  27044.0  27055.0  27078.0  27096.0  \n",
       "\n",
       "[1 rows x 254 columns]"
      ]
     },
     "execution_count": 26,
     "metadata": {},
     "output_type": "execute_result"
    }
   ],
   "source": [
    "confirmed"
   ]
  },
  {
   "cell_type": "code",
   "execution_count": 29,
   "metadata": {},
   "outputs": [],
   "source": [
    "path_to_save=''"
   ]
  }
 ],
 "metadata": {
  "kernelspec": {
   "display_name": "Python 3",
   "language": "python",
   "name": "python3"
  },
  "language_info": {
   "codemirror_mode": {
    "name": "ipython",
    "version": 3
   },
   "file_extension": ".py",
   "mimetype": "text/x-python",
   "name": "python",
   "nbconvert_exporter": "python",
   "pygments_lexer": "ipython3",
   "version": "3.7.4"
  }
 },
 "nbformat": 4,
 "nbformat_minor": 2
}
