{
 "cells": [
  {
   "cell_type": "code",
   "execution_count": 1,
   "metadata": {},
   "outputs": [
    {
     "name": "stderr",
     "output_type": "stream",
     "text": [
      "Using TensorFlow backend.\n"
     ]
    }
   ],
   "source": [
    "import stephpreprocessing\n",
    "import pandas as pd\n",
    "import numpy as np \n",
    "%matplotlib inline\n",
    "from matplotlib import pyplot as plt\n",
    "import numpy as np\n",
    "import pandas as pd\n",
    "from sklearn.model_selection import train_test_split\n",
    "import numpy as np\n",
    "import pydot\n",
    "from io import StringIO\n",
    "from sklearn.tree import export_graphviz\n",
    "from sklearn.preprocessing import MinMaxScaler\n",
    "from sklearn.preprocessing import StandardScaler\n",
    "from stephpreprocessing import convert2matrix\n",
    "from stephpreprocessing import model_loss\n",
    "from stephpreprocessing import prediction_plot\n",
    "from stephpreprocessing import model_rnn\n",
    "from tensorflow.keras import layers\n",
    "from keras.layers import Activation, SimpleRNN\n",
    "from stephpreprocessing import model_dnn\n",
    "from keras.callbacks import EarlyStopping"
   ]
  },
  {
   "cell_type": "code",
   "execution_count": 2,
   "metadata": {},
   "outputs": [],
   "source": [
    "df=pd.read_csv(r'Data/COVID_AU_national_daily_change.csv')"
   ]
  },
  {
   "cell_type": "code",
   "execution_count": 3,
   "metadata": {
    "scrolled": true
   },
   "outputs": [
    {
     "data": {
      "text/html": [
       "<div>\n",
       "<style scoped>\n",
       "    .dataframe tbody tr th:only-of-type {\n",
       "        vertical-align: middle;\n",
       "    }\n",
       "\n",
       "    .dataframe tbody tr th {\n",
       "        vertical-align: top;\n",
       "    }\n",
       "\n",
       "    .dataframe thead th {\n",
       "        text-align: right;\n",
       "    }\n",
       "</style>\n",
       "<table border=\"1\" class=\"dataframe\">\n",
       "  <thead>\n",
       "    <tr style=\"text-align: right;\">\n",
       "      <th></th>\n",
       "      <th>date</th>\n",
       "      <th>confirmed</th>\n",
       "      <th>deaths</th>\n",
       "      <th>tests</th>\n",
       "      <th>positives</th>\n",
       "      <th>recovered</th>\n",
       "      <th>hosp</th>\n",
       "      <th>icu</th>\n",
       "      <th>vent</th>\n",
       "    </tr>\n",
       "  </thead>\n",
       "  <tbody>\n",
       "    <tr>\n",
       "      <td>0</td>\n",
       "      <td>2020-01-25</td>\n",
       "      <td>4</td>\n",
       "      <td>0</td>\n",
       "      <td>0</td>\n",
       "      <td>0</td>\n",
       "      <td>0</td>\n",
       "      <td>0</td>\n",
       "      <td>0</td>\n",
       "      <td>0</td>\n",
       "    </tr>\n",
       "    <tr>\n",
       "      <td>1</td>\n",
       "      <td>2020-01-26</td>\n",
       "      <td>0</td>\n",
       "      <td>0</td>\n",
       "      <td>0</td>\n",
       "      <td>0</td>\n",
       "      <td>0</td>\n",
       "      <td>0</td>\n",
       "      <td>0</td>\n",
       "      <td>0</td>\n",
       "    </tr>\n",
       "    <tr>\n",
       "      <td>2</td>\n",
       "      <td>2020-01-27</td>\n",
       "      <td>1</td>\n",
       "      <td>0</td>\n",
       "      <td>0</td>\n",
       "      <td>0</td>\n",
       "      <td>0</td>\n",
       "      <td>0</td>\n",
       "      <td>0</td>\n",
       "      <td>0</td>\n",
       "    </tr>\n",
       "    <tr>\n",
       "      <td>3</td>\n",
       "      <td>2020-01-28</td>\n",
       "      <td>0</td>\n",
       "      <td>0</td>\n",
       "      <td>0</td>\n",
       "      <td>0</td>\n",
       "      <td>0</td>\n",
       "      <td>0</td>\n",
       "      <td>0</td>\n",
       "      <td>0</td>\n",
       "    </tr>\n",
       "    <tr>\n",
       "      <td>4</td>\n",
       "      <td>2020-01-29</td>\n",
       "      <td>4</td>\n",
       "      <td>0</td>\n",
       "      <td>0</td>\n",
       "      <td>0</td>\n",
       "      <td>0</td>\n",
       "      <td>0</td>\n",
       "      <td>0</td>\n",
       "      <td>0</td>\n",
       "    </tr>\n",
       "    <tr>\n",
       "      <td>...</td>\n",
       "      <td>...</td>\n",
       "      <td>...</td>\n",
       "      <td>...</td>\n",
       "      <td>...</td>\n",
       "      <td>...</td>\n",
       "      <td>...</td>\n",
       "      <td>...</td>\n",
       "      <td>...</td>\n",
       "      <td>...</td>\n",
       "    </tr>\n",
       "    <tr>\n",
       "      <td>237</td>\n",
       "      <td>2020-09-18</td>\n",
       "      <td>48</td>\n",
       "      <td>0</td>\n",
       "      <td>45422</td>\n",
       "      <td>48</td>\n",
       "      <td>63</td>\n",
       "      <td>-9</td>\n",
       "      <td>-1</td>\n",
       "      <td>0</td>\n",
       "    </tr>\n",
       "    <tr>\n",
       "      <td>238</td>\n",
       "      <td>2020-09-19</td>\n",
       "      <td>24</td>\n",
       "      <td>0</td>\n",
       "      <td>39050</td>\n",
       "      <td>24</td>\n",
       "      <td>107</td>\n",
       "      <td>-2</td>\n",
       "      <td>-3</td>\n",
       "      <td>-2</td>\n",
       "    </tr>\n",
       "    <tr>\n",
       "      <td>239</td>\n",
       "      <td>2020-09-20</td>\n",
       "      <td>13</td>\n",
       "      <td>0</td>\n",
       "      <td>33039</td>\n",
       "      <td>13</td>\n",
       "      <td>100</td>\n",
       "      <td>3</td>\n",
       "      <td>-2</td>\n",
       "      <td>-1</td>\n",
       "    </tr>\n",
       "    <tr>\n",
       "      <td>240</td>\n",
       "      <td>2020-09-21</td>\n",
       "      <td>14</td>\n",
       "      <td>0</td>\n",
       "      <td>23436</td>\n",
       "      <td>14</td>\n",
       "      <td>95</td>\n",
       "      <td>-2</td>\n",
       "      <td>-2</td>\n",
       "      <td>-2</td>\n",
       "    </tr>\n",
       "    <tr>\n",
       "      <td>241</td>\n",
       "      <td>2020-09-22</td>\n",
       "      <td>30</td>\n",
       "      <td>0</td>\n",
       "      <td>31595</td>\n",
       "      <td>30</td>\n",
       "      <td>61</td>\n",
       "      <td>0</td>\n",
       "      <td>0</td>\n",
       "      <td>0</td>\n",
       "    </tr>\n",
       "  </tbody>\n",
       "</table>\n",
       "<p>242 rows × 9 columns</p>\n",
       "</div>"
      ],
      "text/plain": [
       "           date  confirmed  deaths  tests  positives  recovered  hosp  icu  \\\n",
       "0    2020-01-25          4       0      0          0          0     0    0   \n",
       "1    2020-01-26          0       0      0          0          0     0    0   \n",
       "2    2020-01-27          1       0      0          0          0     0    0   \n",
       "3    2020-01-28          0       0      0          0          0     0    0   \n",
       "4    2020-01-29          4       0      0          0          0     0    0   \n",
       "..          ...        ...     ...    ...        ...        ...   ...  ...   \n",
       "237  2020-09-18         48       0  45422         48         63    -9   -1   \n",
       "238  2020-09-19         24       0  39050         24        107    -2   -3   \n",
       "239  2020-09-20         13       0  33039         13        100     3   -2   \n",
       "240  2020-09-21         14       0  23436         14         95    -2   -2   \n",
       "241  2020-09-22         30       0  31595         30         61     0    0   \n",
       "\n",
       "     vent  \n",
       "0       0  \n",
       "1       0  \n",
       "2       0  \n",
       "3       0  \n",
       "4       0  \n",
       "..    ...  \n",
       "237     0  \n",
       "238    -2  \n",
       "239    -1  \n",
       "240    -2  \n",
       "241     0  \n",
       "\n",
       "[242 rows x 9 columns]"
      ]
     },
     "execution_count": 3,
     "metadata": {},
     "output_type": "execute_result"
    }
   ],
   "source": [
    "df"
   ]
  },
  {
   "cell_type": "code",
   "execution_count": 4,
   "metadata": {},
   "outputs": [
    {
     "name": "stdout",
     "output_type": "stream",
     "text": [
      "<class 'pandas.core.frame.DataFrame'>\n",
      "RangeIndex: 242 entries, 0 to 241\n",
      "Data columns (total 9 columns):\n",
      "date         242 non-null datetime64[ns]\n",
      "confirmed    242 non-null int64\n",
      "deaths       242 non-null int64\n",
      "tests        242 non-null int64\n",
      "positives    242 non-null int64\n",
      "recovered    242 non-null int64\n",
      "hosp         242 non-null int64\n",
      "icu          242 non-null int64\n",
      "vent         242 non-null int64\n",
      "dtypes: datetime64[ns](1), int64(8)\n",
      "memory usage: 17.1 KB\n"
     ]
    }
   ],
   "source": [
    "df['date']=pd.to_datetime(df['date'])\n",
    "df.info()"
   ]
  },
  {
   "cell_type": "code",
   "execution_count": 5,
   "metadata": {},
   "outputs": [
    {
     "data": {
      "text/plain": [
       "<matplotlib.legend.Legend at 0x1ae25144dc8>"
      ]
     },
     "execution_count": 5,
     "metadata": {},
     "output_type": "execute_result"
    },
    {
     "data": {
      "image/png": "[encoded data removed]",
      "text/plain": [
       "<Figure size 432x288 with 1 Axes>"
      ]
     },
     "metadata": {
      "needs_background": "light"
     },
     "output_type": "display_data"
    }
   ],
   "source": [
    "plt.plot(df['confirmed'],data=df,color='red',marker='v')\n",
    "plt.plot(df['positives'],data=df,color='blue',marker='o')\n",
    "plt.legend()"
   ]
  },
  {
   "cell_type": "markdown",
   "metadata": {},
   "source": [
    "**Just to check why they got 2 columns of the same target. Looks like I will need to drop positive and keep confirm as target**"
   ]
  },
  {
   "cell_type": "code",
   "execution_count": 6,
   "metadata": {},
   "outputs": [],
   "source": [
    "df.set_index('date',inplace=True)"
   ]
  },
  {
   "cell_type": "code",
   "execution_count": 7,
   "metadata": {},
   "outputs": [],
   "source": [
    "look_back=6\n",
    "y = df['confirmed']\n",
    "X = df.drop(['confirmed','positives'], axis=1)"
   ]
  },
  {
   "cell_type": "markdown",
   "metadata": {},
   "source": [
    "**I suggested not to stadardize dataset at this point-they are on the same scale (number of people) and furthermore the data is too small, standardize does not really help, to leave it in the way it should be, we can see the weight based on the variance of each coeeficient upon the model.**"
   ]
  },
  {
   "cell_type": "code",
   "execution_count": 45,
   "metadata": {},
   "outputs": [],
   "source": [
    "rs = 42\n",
    "X_train, X_test, y_train, y_test = train_test_split(X, y, test_size=0.29, random_state=rs)"
   ]
  },
  {
   "cell_type": "markdown",
   "metadata": {},
   "source": [
    "## I will try DNN first"
   ]
  },
  {
   "cell_type": "code",
   "execution_count": 9,
   "metadata": {},
   "outputs": [
    {
     "name": "stdout",
     "output_type": "stream",
     "text": [
      "Train on 171 samples, validate on 71 samples\n",
      "Epoch 1/100\n",
      "171/171 [==============================] - 0s 626us/step - loss: 13845141.0789 - mse: 13845140.0000 - mae: 2787.3542 - val_loss: 4432404.5000 - val_mse: 4432404.5000 - val_mae: 1661.6904\n",
      "Epoch 2/100\n",
      "171/171 [==============================] - 0s 47us/step - loss: 1525536.4887 - mse: 1525536.5000 - mae: 853.5865 - val_loss: 37060.4733 - val_mse: 37060.4727 - val_mae: 113.2604\n",
      "Epoch 3/100\n",
      "171/171 [==============================] - 0s 52us/step - loss: 642734.0300 - mse: 642734.0625 - mae: 537.1744 - val_loss: 1472859.0423 - val_mse: 1472859.0000 - val_mae: 956.6992\n",
      "Epoch 4/100\n",
      "171/171 [==============================] - 0s 41us/step - loss: 1479948.1023 - mse: 1479948.1250 - mae: 921.5721 - val_loss: 977032.4912 - val_mse: 977032.4375 - val_mae: 777.1895\n",
      "Epoch 5/100\n",
      "171/171 [==============================] - 0s 58us/step - loss: 491450.2693 - mse: 491450.2812 - mae: 524.0004 - val_loss: 53944.1653 - val_mse: 53944.1602 - val_mae: 153.4924\n",
      "Epoch 6/100\n",
      "171/171 [==============================] - 0s 41us/step - loss: 44763.0048 - mse: 44763.0039 - mae: 144.8885 - val_loss: 169035.5732 - val_mse: 169035.5781 - val_mae: 320.1564\n",
      "Epoch 7/100\n",
      "171/171 [==============================] - 0s 58us/step - loss: 222312.5853 - mse: 222312.5781 - mae: 350.1508 - val_loss: 207589.9866 - val_mse: 207589.9844 - val_mae: 355.1211\n",
      "Epoch 8/100\n",
      "171/171 [==============================] - 0s 41us/step - loss: 124281.7013 - mse: 124281.6953 - mae: 262.5068 - val_loss: 34905.7279 - val_mse: 34905.7305 - val_mae: 151.7327\n",
      "Epoch 9/100\n",
      "171/171 [==============================] - 0s 47us/step - loss: 21602.5249 - mse: 21602.5254 - mae: 98.1759 - val_loss: 35152.6805 - val_mse: 35152.6836 - val_mae: 107.9613\n",
      "Epoch 10/100\n",
      "171/171 [==============================] - 0s 41us/step - loss: 44955.4630 - mse: 44955.4609 - mae: 138.4799 - val_loss: 41309.7313 - val_mse: 41309.7305 - val_mae: 124.8142\n",
      "Epoch 11/100\n",
      "171/171 [==============================] - 0s 41us/step - loss: 26958.1188 - mse: 26958.1172 - mae: 99.6417 - val_loss: 17347.9831 - val_mse: 17347.9824 - val_mae: 88.8166\n",
      "Epoch 12/100\n",
      "171/171 [==============================] - 0s 52us/step - loss: 16542.8514 - mse: 16542.8516 - mae: 91.6513 - val_loss: 24798.0618 - val_mse: 24798.0625 - val_mae: 124.7423\n",
      "Epoch 13/100\n",
      "171/171 [==============================] - 0s 35us/step - loss: 22749.3799 - mse: 22749.3809 - mae: 110.6067 - val_loss: 22159.1425 - val_mse: 22159.1426 - val_mae: 115.8673\n",
      "Epoch 14/100\n",
      "171/171 [==============================] - 0s 47us/step - loss: 17192.7004 - mse: 17192.6992 - mae: 94.1635 - val_loss: 17059.9085 - val_mse: 17059.9082 - val_mae: 93.0693\n",
      "Epoch 15/100\n",
      "171/171 [==============================] - 0s 47us/step - loss: 15644.8626 - mse: 15644.8613 - mae: 83.4090 - val_loss: 17604.6001 - val_mse: 17604.5996 - val_mae: 86.8832\n",
      "Epoch 16/100\n",
      "171/171 [==============================] - 0s 47us/step - loss: 15411.8886 - mse: 15411.8887 - mae: 82.8662 - val_loss: 17009.6105 - val_mse: 17009.6094 - val_mae: 92.2632\n",
      "Epoch 17/100\n",
      "171/171 [==============================] - 0s 53us/step - loss: 15064.8844 - mse: 15064.8848 - mae: 85.9512 - val_loss: 17737.3839 - val_mse: 17737.3848 - val_mae: 98.8087\n",
      "Epoch 18/100\n",
      "171/171 [==============================] - 0s 47us/step - loss: 15693.3105 - mse: 15693.3096 - mae: 89.0119 - val_loss: 17610.8694 - val_mse: 17610.8691 - val_mae: 98.2546\n",
      "Epoch 19/100\n",
      "171/171 [==============================] - 0s 41us/step - loss: 15353.4429 - mse: 15353.4434 - mae: 87.0691 - val_loss: 17039.1439 - val_mse: 17039.1445 - val_mae: 94.3216\n",
      "Epoch 20/100\n",
      "171/171 [==============================] - 0s 53us/step - loss: 15070.2274 - mse: 15070.2266 - mae: 84.7794 - val_loss: 16948.5496 - val_mse: 16948.5488 - val_mae: 93.0952\n",
      "Epoch 21/100\n",
      "171/171 [==============================] - 0s 47us/step - loss: 15005.8797 - mse: 15005.8799 - mae: 84.8691 - val_loss: 17046.1963 - val_mse: 17046.1973 - val_mae: 94.7742\n",
      "Epoch 22/100\n",
      "171/171 [==============================] - 0s 47us/step - loss: 15111.0010 - mse: 15111.0010 - mae: 86.0408 - val_loss: 17164.3226 - val_mse: 17164.3223 - val_mae: 95.9072\n",
      "Epoch 23/100\n",
      "171/171 [==============================] - 0s 47us/step - loss: 15175.4766 - mse: 15175.4766 - mae: 86.3265 - val_loss: 17064.5542 - val_mse: 17064.5547 - val_mae: 95.2343\n",
      "Epoch 24/100\n",
      "171/171 [==============================] - 0s 53us/step - loss: 15097.3142 - mse: 15097.3154 - mae: 85.6912 - val_loss: 16957.0821 - val_mse: 16957.0801 - val_mae: 94.3539\n",
      "Epoch 25/100\n",
      "171/171 [==============================] - 0s 52us/step - loss: 15040.5405 - mse: 15040.5410 - mae: 85.3332 - val_loss: 16947.0886 - val_mse: 16947.0879 - val_mae: 94.4296\n",
      "Epoch 26/100\n",
      "171/171 [==============================] - 0s 41us/step - loss: 15049.0282 - mse: 15049.0273 - mae: 85.5571 - val_loss: 16973.2422 - val_mse: 16973.2422 - val_mae: 94.8414\n",
      "Epoch 27/100\n",
      "171/171 [==============================] - 0s 47us/step - loss: 15073.3860 - mse: 15073.3857 - mae: 85.7550 - val_loss: 16951.6176 - val_mse: 16951.6172 - val_mae: 94.7897\n",
      "Epoch 28/100\n",
      "171/171 [==============================] - 0s 47us/step - loss: 15058.6198 - mse: 15058.6201 - mae: 85.6236 - val_loss: 16900.2382 - val_mse: 16900.2402 - val_mae: 94.4638\n",
      "Epoch 29/100\n",
      "171/171 [==============================] - 0s 41us/step - loss: 15030.9143 - mse: 15030.9141 - mae: 85.4480 - val_loss: 16871.8556 - val_mse: 16871.8555 - val_mae: 94.3509\n",
      "Epoch 30/100\n",
      "171/171 [==============================] - 0s 58us/step - loss: 15021.7619 - mse: 15021.7617 - mae: 85.4474 - val_loss: 16862.1294 - val_mse: 16862.1309 - val_mae: 94.4163\n",
      "Epoch 31/100\n",
      "171/171 [==============================] - 0s 47us/step - loss: 15022.5094 - mse: 15022.5088 - mae: 85.4921 - val_loss: 16842.1942 - val_mse: 16842.1934 - val_mae: 94.3838\n",
      "Epoch 32/100\n",
      "171/171 [==============================] - 0s 41us/step - loss: 15013.7041 - mse: 15013.7051 - mae: 85.4448 - val_loss: 16810.5243 - val_mse: 16810.5254 - val_mae: 94.2429\n",
      "Epoch 33/100\n",
      "171/171 [==============================] - 0s 64us/step - loss: 14998.4119 - mse: 14998.4111 - mae: 85.3639 - val_loss: 16783.6014 - val_mse: 16783.6016 - val_mae: 94.1462\n",
      "Epoch 34/100\n",
      "171/171 [==============================] - 0s 58us/step - loss: 14987.7598 - mse: 14987.7588 - mae: 85.3302 - val_loss: 16763.1646 - val_mse: 16763.1660 - val_mae: 94.1101\n",
      "Epoch 35/100\n",
      "171/171 [==============================] - 0s 41us/step - loss: 14980.5622 - mse: 14980.5625 - mae: 85.3162 - val_loss: 16740.2378 - val_mse: 16740.2383 - val_mae: 94.0504\n",
      "Epoch 36/100\n",
      "171/171 [==============================] - 0s 52us/step - loss: 14970.7227 - mse: 14970.7227 - mae: 85.2759 - val_loss: 16713.5547 - val_mse: 16713.5547 - val_mae: 93.9562\n",
      "Epoch 37/100\n",
      "171/171 [==============================] - 0s 41us/step - loss: 14958.7634 - mse: 14958.7627 - mae: 85.2243 - val_loss: 16688.2790 - val_mse: 16688.2793 - val_mae: 93.8737\n",
      "Epoch 38/100\n",
      "171/171 [==============================] - 0s 41us/step - loss: 14947.9627 - mse: 14947.9639 - mae: 85.1857 - val_loss: 16664.7487 - val_mse: 16664.7480 - val_mae: 93.8082\n",
      "Epoch 39/100\n",
      "171/171 [==============================] - 0s 52us/step - loss: 14938.1445 - mse: 14938.1436 - mae: 85.1525 - val_loss: 16640.6376 - val_mse: 16640.6367 - val_mae: 93.7351\n",
      "Epoch 40/100\n",
      "171/171 [==============================] - 0s 52us/step - loss: 14927.3751 - mse: 14927.3760 - mae: 85.1109 - val_loss: 16615.3063 - val_mse: 16615.3066 - val_mae: 93.6513\n",
      "Epoch 41/100\n",
      "171/171 [==============================] - 0s 52us/step - loss: 14915.9589 - mse: 14915.9590 - mae: 85.0662 - val_loss: 16590.4991 - val_mse: 16590.5000 - val_mae: 93.5715\n",
      "Epoch 42/100\n",
      "171/171 [==============================] - 0s 41us/step - loss: 14904.8413 - mse: 14904.8418 - mae: 85.0254 - val_loss: 16566.2064 - val_mse: 16566.2070 - val_mae: 93.4957\n",
      "Epoch 43/100\n",
      "171/171 [==============================] - 0s 58us/step - loss: 14893.8815 - mse: 14893.8818 - mae: 84.9851 - val_loss: 16541.7883 - val_mse: 16541.7891 - val_mae: 93.4170\n",
      "Epoch 44/100\n",
      "171/171 [==============================] - 0s 58us/step - loss: 14882.5393 - mse: 14882.5381 - mae: 84.9419 - val_loss: 16516.9222 - val_mse: 16516.9219 - val_mae: 93.3341\n"
     ]
    },
    {
     "name": "stdout",
     "output_type": "stream",
     "text": [
      "Epoch 45/100\n",
      "171/171 [==============================] - 0s 52us/step - loss: 14870.8080 - mse: 14870.8086 - mae: 84.8972 - val_loss: 16492.4609 - val_mse: 16492.4609 - val_mae: 93.2531\n",
      "Epoch 46/100\n",
      "171/171 [==============================] - 0s 35us/step - loss: 14859.3517 - mse: 14859.3506 - mae: 84.8549 - val_loss: 16468.2176 - val_mse: 16468.2168 - val_mae: 93.1730\n",
      "Epoch 47/100\n",
      "171/171 [==============================] - 0s 41us/step - loss: 14847.7443 - mse: 14847.7441 - mae: 84.8113 - val_loss: 16443.8066 - val_mse: 16443.8066 - val_mae: 93.0896\n",
      "Epoch 48/100\n",
      "171/171 [==============================] - 0s 58us/step - loss: 14835.7708 - mse: 14835.7705 - mae: 84.7656 - val_loss: 16419.4387 - val_mse: 16419.4375 - val_mae: 93.0055\n",
      "Epoch 49/100\n",
      "171/171 [==============================] - 0s 41us/step - loss: 14823.9359 - mse: 14823.9355 - mae: 84.7215 - val_loss: 16395.5232 - val_mse: 16395.5234 - val_mae: 92.9236\n",
      "Epoch 50/100\n",
      "171/171 [==============================] - 0s 41us/step - loss: 14812.0358 - mse: 14812.0361 - mae: 84.6766 - val_loss: 16371.4223 - val_mse: 16371.4229 - val_mae: 92.8383\n",
      "Epoch 51/100\n",
      "171/171 [==============================] - 0s 52us/step - loss: 14799.8432 - mse: 14799.8418 - mae: 84.6303 - val_loss: 16347.5129 - val_mse: 16347.5127 - val_mae: 92.7531\n",
      "Epoch 52/100\n",
      "171/171 [==============================] - 0s 35us/step - loss: 14787.6458 - mse: 14787.6445 - mae: 84.5842 - val_loss: 16323.8718 - val_mse: 16323.8711 - val_mae: 92.6681\n",
      "Epoch 53/100\n",
      "171/171 [==============================] - 0s 41us/step - loss: 14775.3840 - mse: 14775.3848 - mae: 84.5381 - val_loss: 16300.2205 - val_mse: 16300.2197 - val_mae: 92.5819\n",
      "Epoch 54/100\n",
      "171/171 [==============================] - 0s 41us/step - loss: 14762.9988 - mse: 14762.9990 - mae: 84.4911 - val_loss: 16276.7238 - val_mse: 16276.7236 - val_mae: 92.4947\n",
      "Epoch 55/100\n",
      "171/171 [==============================] - 0s 41us/step - loss: 14750.4857 - mse: 14750.4854 - mae: 84.4434 - val_loss: 16253.4174 - val_mse: 16253.4170 - val_mae: 92.4070\n",
      "Epoch 56/100\n",
      "171/171 [==============================] - 0s 47us/step - loss: 14770.3983 - mse: 14770.3975 - mae: 84.6017 - val_loss: 16219.6964 - val_mse: 16219.6973 - val_mae: 92.2253\n",
      "Epoch 57/100\n",
      "171/171 [==============================] - 0s 35us/step - loss: 14715.2535 - mse: 14715.2529 - mae: 84.2564 - val_loss: 16198.4865 - val_mse: 16198.4863 - val_mae: 92.1519\n",
      "Epoch 58/100\n",
      "171/171 [==============================] - 0s 41us/step - loss: 14709.4141 - mse: 14709.4141 - mae: 84.2970 - val_loss: 16194.1225 - val_mse: 16194.1211 - val_mae: 92.2198\n",
      "Epoch 59/100\n",
      "171/171 [==============================] - 0s 35us/step - loss: 14706.4470 - mse: 14706.4463 - mae: 84.2998 - val_loss: 16163.8154 - val_mse: 16163.8154 - val_mae: 92.0631\n",
      "Epoch 60/100\n",
      "171/171 [==============================] - 0s 47us/step - loss: 14685.9890 - mse: 14685.9883 - mae: 84.1836 - val_loss: 16134.7535 - val_mse: 16134.7539 - val_mae: 91.9146\n",
      "Epoch 61/100\n",
      "171/171 [==============================] - 0s 41us/step - loss: 14670.7236 - mse: 14670.7227 - mae: 84.1328 - val_loss: 16119.6222 - val_mse: 16119.6230 - val_mae: 91.8829\n",
      "Epoch 62/100\n",
      "171/171 [==============================] - 0s 47us/step - loss: 14662.6249 - mse: 14662.6260 - mae: 84.1191 - val_loss: 16098.6170 - val_mse: 16098.6162 - val_mae: 91.7977\n",
      "Epoch 63/100\n",
      "171/171 [==============================] - 0s 41us/step - loss: 14648.6585 - mse: 14648.6582 - mae: 84.0544 - val_loss: 16073.1141 - val_mse: 16073.1123 - val_mae: 91.6722\n",
      "Epoch 64/100\n",
      "171/171 [==============================] - 0s 41us/step - loss: 14633.2639 - mse: 14633.2627 - mae: 83.9911 - val_loss: 16053.1587 - val_mse: 16053.1582 - val_mae: 91.5911\n",
      "Epoch 65/100\n",
      "171/171 [==============================] - 0s 35us/step - loss: 14621.4975 - mse: 14621.4990 - mae: 83.9537 - val_loss: 16033.8003 - val_mse: 16033.7988 - val_mae: 91.5113\n",
      "Epoch 66/100\n",
      "171/171 [==============================] - 0s 35us/step - loss: 14608.7543 - mse: 14608.7539 - mae: 83.9031 - val_loss: 16011.5219 - val_mse: 16011.5225 - val_mae: 91.4054\n",
      "Epoch 67/100\n",
      "171/171 [==============================] - 0s 41us/step - loss: 14594.3032 - mse: 14594.3027 - mae: 83.8440 - val_loss: 15991.0326 - val_mse: 15991.0332 - val_mae: 91.3109\n",
      "Epoch 68/100\n",
      "171/171 [==============================] - 0s 47us/step - loss: 14581.1342 - mse: 14581.1328 - mae: 83.7955 - val_loss: 15971.7293 - val_mse: 15971.7285 - val_mae: 91.2788\n",
      "Epoch 69/100\n",
      "171/171 [==============================] - 0s 41us/step - loss: 14568.1212 - mse: 14568.1211 - mae: 83.7457 - val_loss: 15951.5666 - val_mse: 15951.5674 - val_mae: 91.2726\n",
      "Epoch 70/100\n",
      "171/171 [==============================] - 0s 41us/step - loss: 14554.2933 - mse: 14554.2939 - mae: 83.6906 - val_loss: 15931.8374 - val_mse: 15931.8379 - val_mae: 91.2674\n",
      "Epoch 71/100\n",
      "171/171 [==============================] - 0s 41us/step - loss: 14540.6606 - mse: 14540.6621 - mae: 83.6381 - val_loss: 15913.0182 - val_mse: 15913.0176 - val_mae: 91.2669\n",
      "Epoch 72/100\n",
      "171/171 [==============================] - 0s 47us/step - loss: 14527.2354 - mse: 14527.2354 - mae: 83.5864 - val_loss: 15894.1517 - val_mse: 15894.1514 - val_mae: 91.2635\n",
      "Epoch 73/100\n",
      "171/171 [==============================] - 0s 41us/step - loss: 14513.5172 - mse: 14513.5176 - mae: 83.5324 - val_loss: 15875.3957 - val_mse: 15875.3965 - val_mae: 91.2589\n",
      "Epoch 74/100\n",
      "171/171 [==============================] - 0s 41us/step - loss: 14499.5557 - mse: 14499.5557 - mae: 83.4781 - val_loss: 15857.4158 - val_mse: 15857.4150 - val_mae: 91.2571\n",
      "Epoch 75/100\n",
      "171/171 [==============================] - 0s 35us/step - loss: 14485.9484 - mse: 14485.9492 - mae: 83.4252 - val_loss: 15839.6413 - val_mse: 15839.6406 - val_mae: 91.2539\n",
      "Epoch 76/100\n",
      "171/171 [==============================] - 0s 35us/step - loss: 14472.1370 - mse: 14472.1377 - mae: 83.3707 - val_loss: 15822.1171 - val_mse: 15822.1162 - val_mae: 91.2501\n",
      "Epoch 77/100\n",
      "171/171 [==============================] - 0s 35us/step - loss: 14458.2516 - mse: 14458.2510 - mae: 83.3161 - val_loss: 15805.1062 - val_mse: 15805.1055 - val_mae: 91.2474\n",
      "Epoch 78/100\n",
      "171/171 [==============================] - 0s 35us/step - loss: 14444.4558 - mse: 14444.4561 - mae: 83.2620 - val_loss: 15788.4191 - val_mse: 15788.4189 - val_mae: 91.2444\n",
      "Epoch 79/100\n",
      "171/171 [==============================] - 0s 47us/step - loss: 14430.5689 - mse: 14430.5684 - mae: 83.2070 - val_loss: 15772.0320 - val_mse: 15772.0312 - val_mae: 91.2407\n",
      "Epoch 80/100\n",
      "171/171 [==============================] - 0s 41us/step - loss: 14416.5996 - mse: 14416.5996 - mae: 83.1517 - val_loss: 15756.1388 - val_mse: 15756.1387 - val_mae: 91.2379\n",
      "Epoch 81/100\n",
      "171/171 [==============================] - 0s 41us/step - loss: 14402.6894 - mse: 14402.6904 - mae: 83.0969 - val_loss: 15740.6177 - val_mse: 15740.6182 - val_mae: 91.2350\n",
      "Epoch 82/100\n",
      "171/171 [==============================] - 0s 47us/step - loss: 14388.6334 - mse: 14388.6348 - mae: 83.0410 - val_loss: 15725.4482 - val_mse: 15725.4473 - val_mae: 91.2311\n",
      "Epoch 83/100\n",
      "171/171 [==============================] - 0s 41us/step - loss: 14374.5252 - mse: 14374.5264 - mae: 82.9848 - val_loss: 15710.7091 - val_mse: 15710.7080 - val_mae: 91.2281\n",
      "Epoch 84/100\n",
      "171/171 [==============================] - 0s 41us/step - loss: 14360.4837 - mse: 14360.4824 - mae: 82.9288 - val_loss: 15696.3735 - val_mse: 15696.3730 - val_mae: 91.2248\n",
      "Epoch 85/100\n",
      "171/171 [==============================] - 0s 41us/step - loss: 14346.4138 - mse: 14346.4141 - mae: 82.8726 - val_loss: 15682.4780 - val_mse: 15682.4785 - val_mae: 91.2217\n",
      "Epoch 86/100\n",
      "171/171 [==============================] - 0s 41us/step - loss: 14332.2865 - mse: 14332.2852 - mae: 82.8160 - val_loss: 15669.0577 - val_mse: 15669.0576 - val_mae: 91.2189\n",
      "Epoch 87/100\n",
      "171/171 [==============================] - 0s 41us/step - loss: 14318.1900 - mse: 14318.1904 - mae: 82.7594 - val_loss: 15655.9746 - val_mse: 15655.9736 - val_mae: 91.2152\n",
      "Epoch 88/100\n",
      "171/171 [==============================] - 0s 41us/step - loss: 14303.9589 - mse: 14303.9590 - mae: 82.7022 - val_loss: 15643.4427 - val_mse: 15643.4434 - val_mae: 91.2124\n",
      "Epoch 89/100\n"
     ]
    },
    {
     "name": "stdout",
     "output_type": "stream",
     "text": [
      "171/171 [==============================] - 0s 47us/step - loss: 14289.8333 - mse: 14289.8330 - mae: 82.6452 - val_loss: 15631.3232 - val_mse: 15631.3242 - val_mae: 91.2093\n",
      "Epoch 90/100\n",
      "171/171 [==============================] - 0s 47us/step - loss: 14275.5478 - mse: 14275.5469 - mae: 82.5875 - val_loss: 15619.5007 - val_mse: 15619.5000 - val_mae: 91.2056\n",
      "Epoch 91/100\n",
      "171/171 [==============================] - 0s 47us/step - loss: 14261.3374 - mse: 14261.3379 - mae: 82.5299 - val_loss: 15608.3007 - val_mse: 15608.3008 - val_mae: 91.2024\n",
      "Epoch 92/100\n",
      "171/171 [==============================] - 0s 35us/step - loss: 14247.0815 - mse: 14247.0820 - mae: 82.4736 - val_loss: 15597.5102 - val_mse: 15597.5107 - val_mae: 91.1992\n",
      "Epoch 93/100\n",
      "171/171 [==============================] - 0s 35us/step - loss: 14232.8293 - mse: 14232.8301 - mae: 82.4189 - val_loss: 15587.2359 - val_mse: 15587.2363 - val_mae: 91.1964\n",
      "Epoch 94/100\n",
      "171/171 [==============================] - 0s 47us/step - loss: 14218.5882 - mse: 14218.5879 - mae: 82.3642 - val_loss: 15577.4432 - val_mse: 15577.4434 - val_mae: 91.1932\n",
      "Epoch 95/100\n",
      "171/171 [==============================] - 0s 41us/step - loss: 14204.3050 - mse: 14204.3057 - mae: 82.3090 - val_loss: 15568.0199 - val_mse: 15568.0215 - val_mae: 91.1895\n",
      "Epoch 96/100\n",
      "171/171 [==============================] - 0s 47us/step - loss: 14189.9702 - mse: 14189.9707 - mae: 82.2537 - val_loss: 15559.1456 - val_mse: 15559.1465 - val_mae: 91.1864\n",
      "Epoch 97/100\n",
      "171/171 [==============================] - 0s 35us/step - loss: 14175.6975 - mse: 14175.6963 - mae: 82.1982 - val_loss: 15550.7300 - val_mse: 15550.7305 - val_mae: 91.1829\n",
      "Epoch 98/100\n",
      "171/171 [==============================] - 0s 41us/step - loss: 14161.3512 - mse: 14161.3506 - mae: 82.1425 - val_loss: 15542.9238 - val_mse: 15542.9229 - val_mae: 91.1799\n",
      "Epoch 99/100\n",
      "171/171 [==============================] - 0s 41us/step - loss: 14146.9991 - mse: 14147.0000 - mae: 82.0864 - val_loss: 15535.4637 - val_mse: 15535.4648 - val_mae: 91.1762\n",
      "Epoch 100/100\n",
      "171/171 [==============================] - 0s 47us/step - loss: 14132.6894 - mse: 14132.6904 - mae: 82.0305 - val_loss: 15528.5694 - val_mse: 15528.5703 - val_mae: 91.1732\n"
     ]
    }
   ],
   "source": [
    "model1=model_dnn(6)\n",
    "history=model1.fit(X_train,y_train, epochs=100,  verbose=1, validation_data=(X_test,y_test),callbacks=[EarlyStopping(monitor='val_loss', patience=10)],shuffle=False)"
   ]
  },
  {
   "cell_type": "code",
   "execution_count": 10,
   "metadata": {},
   "outputs": [
    {
     "name": "stdout",
     "output_type": "stream",
     "text": [
      "Train Root Mean Squared Error(RMSE): 118.03; Train Mean Absolute Error(MAE) : 81.42 \n",
      "Test Root Mean Squared Error(RMSE): 124.61; Test Mean Absolute Error(MAE) : 91.17 \n"
     ]
    }
   ],
   "source": [
    "train_score = model1.evaluate(X_train, y_train, verbose=0)\n",
    "print('Train Root Mean Squared Error(RMSE): %.2f; Train Mean Absolute Error(MAE) : %.2f ' \n",
    "% (np.sqrt(train_score[1]), train_score[2]))\n",
    "test_score = model1.evaluate(X_test,y_test, verbose=0)\n",
    "print('Test Root Mean Squared Error(RMSE): %.2f; Test Mean Absolute Error(MAE) : %.2f ' \n",
    "% (np.sqrt(test_score[1]), test_score[2]))\n"
   ]
  },
  {
   "cell_type": "code",
   "execution_count": 11,
   "metadata": {},
   "outputs": [
    {
     "data": {
      "image/png": "[encoded data removed]",
      "text/plain": [
       "<Figure size 576x288 with 1 Axes>"
      ]
     },
     "metadata": {
      "needs_background": "light"
     },
     "output_type": "display_data"
    }
   ],
   "source": [
    "model_loss(history)"
   ]
  },
  {
   "cell_type": "markdown",
   "metadata": {},
   "source": [
    "**Dataset is too small to state if this is overfitted at this note. You can see that I do even do GridSearch on this because QUT computer is too weak to run that**"
   ]
  },
  {
   "cell_type": "code",
   "execution_count": 12,
   "metadata": {},
   "outputs": [],
   "source": [
    "y_pred=model1.predict(X_test)"
   ]
  },
  {
   "cell_type": "code",
   "execution_count": 48,
   "metadata": {},
   "outputs": [
    {
     "data": {
      "text/plain": [
       "(71,)"
      ]
     },
     "execution_count": 48,
     "metadata": {},
     "output_type": "execute_result"
    }
   ],
   "source": [
    "y_test.shape"
   ]
  },
  {
   "cell_type": "code",
   "execution_count": 51,
   "metadata": {},
   "outputs": [
    {
     "data": {
      "text/plain": [
       "[<matplotlib.lines.Line2D at 0x1ae27cb3b08>]"
      ]
     },
     "execution_count": 51,
     "metadata": {},
     "output_type": "execute_result"
    },
    {
     "data": {
      "image/png": "[encoded data removed]",
      "text/plain": [
       "<Figure size 432x288 with 1 Axes>"
      ]
     },
     "metadata": {
      "needs_background": "light"
     },
     "output_type": "display_data"
    }
   ],
   "source": [
    "plt.plot(y_pred,color='red',marker='v')\n"
   ]
  },
  {
   "cell_type": "markdown",
   "metadata": {},
   "source": [
    "well this one I dont know what it lost my timeseries attribute when pre-processing, last time it was not like this. Still, I will visit back when I have time because it is not very accurate model anyway"
   ]
  },
  {
   "cell_type": "code",
   "execution_count": 50,
   "metadata": {},
   "outputs": [
    {
     "data": {
      "text/plain": [
       "[<matplotlib.lines.Line2D at 0x1ae27c2c948>]"
      ]
     },
     "execution_count": 50,
     "metadata": {},
     "output_type": "execute_result"
    },
    {
     "data": {
      "image/png": "[encoded data removed]",
      "text/plain": [
       "<Figure size 432x288 with 1 Axes>"
      ]
     },
     "metadata": {
      "needs_background": "light"
     },
     "output_type": "display_data"
    }
   ],
   "source": [
    "plt.plot(y_test)"
   ]
  },
  {
   "cell_type": "code",
   "execution_count": 73,
   "metadata": {},
   "outputs": [
    {
     "ename": "AttributeError",
     "evalue": "'GridSearchCV' object has no attribute 'coef_'",
     "output_type": "error",
     "traceback": [
      "\u001b[1;31m---------------------------------------------------------------------------\u001b[0m",
      "\u001b[1;31mAttributeError\u001b[0m                            Traceback (most recent call last)",
      "\u001b[1;32m<ipython-input-73-c203aa3004d4>\u001b[0m in \u001b[0;36m<module>\u001b[1;34m\u001b[0m\n\u001b[0;32m      1\u001b[0m \u001b[1;32mimport\u001b[0m \u001b[0mVisualizeNN\u001b[0m \u001b[1;32mas\u001b[0m \u001b[0mVisNN\u001b[0m\u001b[1;33m\u001b[0m\u001b[1;33m\u001b[0m\u001b[0m\n\u001b[1;32m----> 2\u001b[1;33m \u001b[0mnetwork\u001b[0m\u001b[1;33m=\u001b[0m\u001b[0mVisNN\u001b[0m\u001b[1;33m.\u001b[0m\u001b[0mDrawNN\u001b[0m\u001b[1;33m(\u001b[0m\u001b[1;33m[\u001b[0m\u001b[1;36m21\u001b[0m\u001b[1;33m,\u001b[0m\u001b[1;36m16\u001b[0m\u001b[1;33m,\u001b[0m\u001b[1;36m1\u001b[0m\u001b[1;33m]\u001b[0m\u001b[1;33m,\u001b[0m \u001b[0mmodel3\u001b[0m\u001b[1;33m.\u001b[0m\u001b[0mcoef_\u001b[0m\u001b[1;33m)\u001b[0m\u001b[1;33m\u001b[0m\u001b[1;33m\u001b[0m\u001b[0m\n\u001b[0m\u001b[0;32m      3\u001b[0m \u001b[0mnetwork\u001b[0m\u001b[1;33m.\u001b[0m\u001b[0mdraw\u001b[0m\u001b[1;33m(\u001b[0m\u001b[1;33m)\u001b[0m\u001b[1;33m\u001b[0m\u001b[1;33m\u001b[0m\u001b[0m\n",
      "\u001b[1;31mAttributeError\u001b[0m: 'GridSearchCV' object has no attribute 'coef_'"
     ]
    }
   ],
   "source": [
    "import VisualizeNN as VisNN\n",
    "network=VisNN.DrawNN([21,16,1], model3.coef_)\n",
    "network.draw()"
   ]
  },
  {
   "cell_type": "markdown",
   "metadata": {},
   "source": [
    "# MPLREGSSOR "
   ]
  },
  {
   "cell_type": "code",
   "execution_count": 57,
   "metadata": {},
   "outputs": [],
   "source": [
    "from sklearn.neural_network import MLPRegressor\n",
    "from sklearn.datasets import make_regression"
   ]
  },
  {
   "cell_type": "code",
   "execution_count": 58,
   "metadata": {},
   "outputs": [],
   "source": [
    "X, y = make_regression(n_samples=200, random_state=1)"
   ]
  },
  {
   "cell_type": "markdown",
   "metadata": {},
   "source": [
    "Max_iter is not converged if the value is below 1800"
   ]
  },
  {
   "cell_type": "code",
   "execution_count": 62,
   "metadata": {},
   "outputs": [],
   "source": [
    "X_train, X_test, y_train, y_test = train_test_split(X, y, random_state=1)\n",
    "model2 = MLPRegressor(random_state=1, max_iter=2000).fit(X_train, y_train)"
   ]
  },
  {
   "cell_type": "code",
   "execution_count": 63,
   "metadata": {},
   "outputs": [
    {
     "data": {
      "text/plain": [
       "MLPRegressor(activation='relu', alpha=0.0001, batch_size='auto', beta_1=0.9,\n",
       "             beta_2=0.999, early_stopping=False, epsilon=1e-08,\n",
       "             hidden_layer_sizes=(100,), learning_rate='constant',\n",
       "             learning_rate_init=0.001, max_iter=2000, momentum=0.9,\n",
       "             n_iter_no_change=10, nesterovs_momentum=True, power_t=0.5,\n",
       "             random_state=1, shuffle=True, solver='adam', tol=0.0001,\n",
       "             validation_fraction=0.1, verbose=False, warm_start=False)"
      ]
     },
     "execution_count": 63,
     "metadata": {},
     "output_type": "execute_result"
    }
   ],
   "source": [
    "model2.fit(X_train,y_train)"
   ]
  },
  {
   "cell_type": "code",
   "execution_count": 64,
   "metadata": {},
   "outputs": [
    {
     "name": "stdout",
     "output_type": "stream",
     "text": [
      "Train accuracy: 0.9999988891208844\n",
      "Test accuracy: 0.5209157440819883\n"
     ]
    }
   ],
   "source": [
    "print(\"Train accuracy:\", model2.score(X_train, y_train))\n",
    "print(\"Test accuracy:\", model2.score(X_test, y_test))"
   ]
  },
  {
   "cell_type": "markdown",
   "metadata": {},
   "source": [
    "Super over-fitted, let's try again"
   ]
  },
  {
   "cell_type": "code",
   "execution_count": 65,
   "metadata": {},
   "outputs": [],
   "source": [
    "params = {'hidden_layer_sizes': [(x,) for x in range(1,20, 1)],'activation': ['tanh', 'relu'],\n",
    "    'solver': ['lbfgs', 'adam'],\n",
    "    'alpha': [0.0001, 0.05]}\n"
   ]
  },
  {
   "cell_type": "code",
   "execution_count": 69,
   "metadata": {},
   "outputs": [
    {
     "name": "stdout",
     "output_type": "stream",
     "text": [
      "{'activation': 'relu', 'alpha': 0.05, 'hidden_layer_sizes': (16,), 'solver': 'lbfgs'}\n"
     ]
    }
   ],
   "source": [
    "from sklearn.metrics import classification_report, accuracy_score\n",
    "from sklearn.model_selection import GridSearchCV\n",
    "from sklearn.preprocessing import StandardScaler\n",
    "from sklearn.metrics import roc_auc_score\n",
    "\n",
    "from sklearn.metrics import roc_curve\n",
    "model3 = GridSearchCV(param_grid=params, estimator=MLPRegressor(random_state=42), cv=10, n_jobs=-1)\n",
    "model3.fit(X_train, y_train)\n",
    "y_pred = model3.predict(X_test)\n",
    "print(model3.best_params_)"
   ]
  },
  {
   "cell_type": "markdown",
   "metadata": {},
   "source": [
    "Better but still not applicable"
   ]
  },
  {
   "cell_type": "code",
   "execution_count": 70,
   "metadata": {},
   "outputs": [
    {
     "name": "stdout",
     "output_type": "stream",
     "text": [
      "Train accuracy: 0.9999998437114332\n",
      "Test accuracy: 0.8535560705648819\n"
     ]
    }
   ],
   "source": [
    "print(\"Train accuracy:\", model3.score(X_train, y_train))\n",
    "print(\"Test accuracy:\", model3.score(X_test, y_test))"
   ]
  },
  {
   "cell_type": "code",
   "execution_count": 74,
   "metadata": {},
   "outputs": [],
   "source": [
    "model4=MLPRegressor(activation='relu',random_state=1, max_iter=2000,hidden_layer_sizes=16,solver='lbfgs')"
   ]
  },
  {
   "cell_type": "code",
   "execution_count": 75,
   "metadata": {},
   "outputs": [
    {
     "data": {
      "text/plain": [
       "MLPRegressor(activation='relu', alpha=0.0001, batch_size='auto', beta_1=0.9,\n",
       "             beta_2=0.999, early_stopping=False, epsilon=1e-08,\n",
       "             hidden_layer_sizes=16, learning_rate='constant',\n",
       "             learning_rate_init=0.001, max_iter=2000, momentum=0.9,\n",
       "             n_iter_no_change=10, nesterovs_momentum=True, power_t=0.5,\n",
       "             random_state=1, shuffle=True, solver='lbfgs', tol=0.0001,\n",
       "             validation_fraction=0.1, verbose=False, warm_start=False)"
      ]
     },
     "execution_count": 75,
     "metadata": {},
     "output_type": "execute_result"
    }
   ],
   "source": [
    "model4.fit(X_train,y_train)"
   ]
  },
  {
   "cell_type": "code",
   "execution_count": 79,
   "metadata": {},
   "outputs": [
    {
     "ename": "ValueError",
     "evalue": "Image size of 360000x240000 pixels is too large. It must be less than 2^16 in each direction.",
     "output_type": "error",
     "traceback": [
      "\u001b[1;31m---------------------------------------------------------------------------\u001b[0m",
      "\u001b[1;31mValueError\u001b[0m                                Traceback (most recent call last)",
      "\u001b[1;32m<ipython-input-79-4d80791b0aa8>\u001b[0m in \u001b[0;36m<module>\u001b[1;34m\u001b[0m\n\u001b[0;32m      1\u001b[0m \u001b[1;32mimport\u001b[0m \u001b[0mVisualizeNN\u001b[0m \u001b[1;32mas\u001b[0m \u001b[0mVisNN\u001b[0m\u001b[1;33m\u001b[0m\u001b[1;33m\u001b[0m\u001b[0m\n\u001b[0;32m      2\u001b[0m \u001b[0mnetwork\u001b[0m\u001b[1;33m=\u001b[0m\u001b[0mVisNN\u001b[0m\u001b[1;33m.\u001b[0m\u001b[0mDrawNN\u001b[0m\u001b[1;33m(\u001b[0m\u001b[1;33m[\u001b[0m\u001b[1;36m5\u001b[0m\u001b[1;33m,\u001b[0m\u001b[1;36m5\u001b[0m\u001b[1;33m,\u001b[0m\u001b[1;36m1\u001b[0m\u001b[1;33m]\u001b[0m\u001b[1;33m,\u001b[0m \u001b[0mmodel4\u001b[0m\u001b[1;33m.\u001b[0m\u001b[0mcoefs_\u001b[0m\u001b[1;33m)\u001b[0m\u001b[1;33m\u001b[0m\u001b[1;33m\u001b[0m\u001b[0m\n\u001b[1;32m----> 3\u001b[1;33m \u001b[0mnetwork\u001b[0m\u001b[1;33m.\u001b[0m\u001b[0mdraw\u001b[0m\u001b[1;33m(\u001b[0m\u001b[1;33m)\u001b[0m\u001b[1;33m\u001b[0m\u001b[1;33m\u001b[0m\u001b[0m\n\u001b[0m",
      "\u001b[1;32m~\\OneDrive - Queensland University of Technology\\DataScienceCovid\\COVID-19_Data-master\\VisualizeNN.py\u001b[0m in \u001b[0;36mdraw\u001b[1;34m(self)\u001b[0m\n\u001b[0;32m    192\u001b[0m         \u001b[1;32mfor\u001b[0m \u001b[0ml\u001b[0m \u001b[1;32min\u001b[0m \u001b[0mself\u001b[0m\u001b[1;33m.\u001b[0m\u001b[0mneural_network\u001b[0m\u001b[1;33m:\u001b[0m\u001b[1;33m\u001b[0m\u001b[1;33m\u001b[0m\u001b[0m\n\u001b[0;32m    193\u001b[0m             \u001b[0mnetwork\u001b[0m\u001b[1;33m.\u001b[0m\u001b[0madd_layer\u001b[0m\u001b[1;33m(\u001b[0m\u001b[0ml\u001b[0m\u001b[1;33m)\u001b[0m\u001b[1;33m\u001b[0m\u001b[1;33m\u001b[0m\u001b[0m\n\u001b[1;32m--> 194\u001b[1;33m         \u001b[0mnetwork\u001b[0m\u001b[1;33m.\u001b[0m\u001b[0mdraw\u001b[0m\u001b[1;33m(\u001b[0m\u001b[0mself\u001b[0m\u001b[1;33m.\u001b[0m\u001b[0mweights_list\u001b[0m\u001b[1;33m)\u001b[0m\u001b[1;33m\u001b[0m\u001b[1;33m\u001b[0m\u001b[0m\n\u001b[0m\u001b[0;32m    195\u001b[0m \u001b[1;33m\u001b[0m\u001b[0m\n\u001b[0;32m    196\u001b[0m \u001b[1;33m\u001b[0m\u001b[0m\n",
      "\u001b[1;32m~\\OneDrive - Queensland University of Technology\\DataScienceCovid\\COVID-19_Data-master\\VisualizeNN.py\u001b[0m in \u001b[0;36mdraw\u001b[1;34m(self, weights_list)\u001b[0m\n\u001b[0;32m    168\u001b[0m         \u001b[0mpyplot\u001b[0m\u001b[1;33m.\u001b[0m\u001b[0mtitle\u001b[0m\u001b[1;33m(\u001b[0m \u001b[1;34m'Models'\u001b[0m\u001b[1;33m,\u001b[0m \u001b[0mfontsize\u001b[0m\u001b[1;33m=\u001b[0m\u001b[1;36m15\u001b[0m \u001b[1;33m)\u001b[0m\u001b[1;33m\u001b[0m\u001b[1;33m\u001b[0m\u001b[0m\n\u001b[0;32m    169\u001b[0m         \u001b[0mfigureName\u001b[0m\u001b[1;33m=\u001b[0m\u001b[1;34m'ANN_'\u001b[0m\u001b[1;33m+\u001b[0m\u001b[0mstrftime\u001b[0m\u001b[1;33m(\u001b[0m\u001b[1;34m\"%Y%m%d_%H%M%S\"\u001b[0m\u001b[1;33m,\u001b[0m \u001b[0mlocaltime\u001b[0m\u001b[1;33m(\u001b[0m\u001b[1;33m)\u001b[0m\u001b[1;33m)\u001b[0m\u001b[1;33m+\u001b[0m\u001b[1;34m'.png'\u001b[0m\u001b[1;33m\u001b[0m\u001b[1;33m\u001b[0m\u001b[0m\n\u001b[1;32m--> 170\u001b[1;33m         \u001b[0mpyplot\u001b[0m\u001b[1;33m.\u001b[0m\u001b[0msavefig\u001b[0m\u001b[1;33m(\u001b[0m\u001b[0mfigureName\u001b[0m\u001b[1;33m,\u001b[0m \u001b[0mdpi\u001b[0m\u001b[1;33m=\u001b[0m\u001b[1;36m300\u001b[0m\u001b[1;33m,\u001b[0m \u001b[0mbbox_inches\u001b[0m\u001b[1;33m=\u001b[0m\u001b[1;34m\"tight\"\u001b[0m\u001b[1;33m)\u001b[0m\u001b[1;33m\u001b[0m\u001b[1;33m\u001b[0m\u001b[0m\n\u001b[0m\u001b[0;32m    171\u001b[0m         \u001b[0mpyplot\u001b[0m\u001b[1;33m.\u001b[0m\u001b[0mshow\u001b[0m\u001b[1;33m(\u001b[0m\u001b[1;33m)\u001b[0m\u001b[1;33m\u001b[0m\u001b[1;33m\u001b[0m\u001b[0m\n\u001b[0;32m    172\u001b[0m \u001b[1;33m\u001b[0m\u001b[0m\n",
      "\u001b[1;32mC:\\ProgramData\\Anaconda3\\lib\\site-packages\\matplotlib\\pyplot.py\u001b[0m in \u001b[0;36msavefig\u001b[1;34m(*args, **kwargs)\u001b[0m\n\u001b[0;32m    720\u001b[0m \u001b[1;32mdef\u001b[0m \u001b[0msavefig\u001b[0m\u001b[1;33m(\u001b[0m\u001b[1;33m*\u001b[0m\u001b[0margs\u001b[0m\u001b[1;33m,\u001b[0m \u001b[1;33m**\u001b[0m\u001b[0mkwargs\u001b[0m\u001b[1;33m)\u001b[0m\u001b[1;33m:\u001b[0m\u001b[1;33m\u001b[0m\u001b[1;33m\u001b[0m\u001b[0m\n\u001b[0;32m    721\u001b[0m     \u001b[0mfig\u001b[0m \u001b[1;33m=\u001b[0m \u001b[0mgcf\u001b[0m\u001b[1;33m(\u001b[0m\u001b[1;33m)\u001b[0m\u001b[1;33m\u001b[0m\u001b[1;33m\u001b[0m\u001b[0m\n\u001b[1;32m--> 722\u001b[1;33m     \u001b[0mres\u001b[0m \u001b[1;33m=\u001b[0m \u001b[0mfig\u001b[0m\u001b[1;33m.\u001b[0m\u001b[0msavefig\u001b[0m\u001b[1;33m(\u001b[0m\u001b[1;33m*\u001b[0m\u001b[0margs\u001b[0m\u001b[1;33m,\u001b[0m \u001b[1;33m**\u001b[0m\u001b[0mkwargs\u001b[0m\u001b[1;33m)\u001b[0m\u001b[1;33m\u001b[0m\u001b[1;33m\u001b[0m\u001b[0m\n\u001b[0m\u001b[0;32m    723\u001b[0m     \u001b[0mfig\u001b[0m\u001b[1;33m.\u001b[0m\u001b[0mcanvas\u001b[0m\u001b[1;33m.\u001b[0m\u001b[0mdraw_idle\u001b[0m\u001b[1;33m(\u001b[0m\u001b[1;33m)\u001b[0m   \u001b[1;31m# need this if 'transparent=True' to reset colors\u001b[0m\u001b[1;33m\u001b[0m\u001b[1;33m\u001b[0m\u001b[0m\n\u001b[0;32m    724\u001b[0m     \u001b[1;32mreturn\u001b[0m \u001b[0mres\u001b[0m\u001b[1;33m\u001b[0m\u001b[1;33m\u001b[0m\u001b[0m\n",
      "\u001b[1;32mC:\\ProgramData\\Anaconda3\\lib\\site-packages\\matplotlib\\figure.py\u001b[0m in \u001b[0;36msavefig\u001b[1;34m(self, fname, transparent, **kwargs)\u001b[0m\n\u001b[0;32m   2178\u001b[0m             \u001b[0mself\u001b[0m\u001b[1;33m.\u001b[0m\u001b[0mpatch\u001b[0m\u001b[1;33m.\u001b[0m\u001b[0mset_visible\u001b[0m\u001b[1;33m(\u001b[0m\u001b[0mframeon\u001b[0m\u001b[1;33m)\u001b[0m\u001b[1;33m\u001b[0m\u001b[1;33m\u001b[0m\u001b[0m\n\u001b[0;32m   2179\u001b[0m \u001b[1;33m\u001b[0m\u001b[0m\n\u001b[1;32m-> 2180\u001b[1;33m         \u001b[0mself\u001b[0m\u001b[1;33m.\u001b[0m\u001b[0mcanvas\u001b[0m\u001b[1;33m.\u001b[0m\u001b[0mprint_figure\u001b[0m\u001b[1;33m(\u001b[0m\u001b[0mfname\u001b[0m\u001b[1;33m,\u001b[0m \u001b[1;33m**\u001b[0m\u001b[0mkwargs\u001b[0m\u001b[1;33m)\u001b[0m\u001b[1;33m\u001b[0m\u001b[1;33m\u001b[0m\u001b[0m\n\u001b[0m\u001b[0;32m   2181\u001b[0m \u001b[1;33m\u001b[0m\u001b[0m\n\u001b[0;32m   2182\u001b[0m         \u001b[1;32mif\u001b[0m \u001b[0mframeon\u001b[0m\u001b[1;33m:\u001b[0m\u001b[1;33m\u001b[0m\u001b[1;33m\u001b[0m\u001b[0m\n",
      "\u001b[1;32mC:\\ProgramData\\Anaconda3\\lib\\site-packages\\matplotlib\\backend_bases.py\u001b[0m in \u001b[0;36mprint_figure\u001b[1;34m(self, filename, dpi, facecolor, edgecolor, orientation, format, bbox_inches, **kwargs)\u001b[0m\n\u001b[0;32m   2054\u001b[0m                         \u001b[0morientation\u001b[0m\u001b[1;33m=\u001b[0m\u001b[0morientation\u001b[0m\u001b[1;33m,\u001b[0m\u001b[1;33m\u001b[0m\u001b[1;33m\u001b[0m\u001b[0m\n\u001b[0;32m   2055\u001b[0m                         \u001b[0mdryrun\u001b[0m\u001b[1;33m=\u001b[0m\u001b[1;32mTrue\u001b[0m\u001b[1;33m,\u001b[0m\u001b[1;33m\u001b[0m\u001b[1;33m\u001b[0m\u001b[0m\n\u001b[1;32m-> 2056\u001b[1;33m                         **kwargs)\n\u001b[0m\u001b[0;32m   2057\u001b[0m                     \u001b[0mrenderer\u001b[0m \u001b[1;33m=\u001b[0m \u001b[0mself\u001b[0m\u001b[1;33m.\u001b[0m\u001b[0mfigure\u001b[0m\u001b[1;33m.\u001b[0m\u001b[0m_cachedRenderer\u001b[0m\u001b[1;33m\u001b[0m\u001b[1;33m\u001b[0m\u001b[0m\n\u001b[0;32m   2058\u001b[0m                     \u001b[0mbbox_artists\u001b[0m \u001b[1;33m=\u001b[0m \u001b[0mkwargs\u001b[0m\u001b[1;33m.\u001b[0m\u001b[0mpop\u001b[0m\u001b[1;33m(\u001b[0m\u001b[1;34m\"bbox_extra_artists\"\u001b[0m\u001b[1;33m,\u001b[0m \u001b[1;32mNone\u001b[0m\u001b[1;33m)\u001b[0m\u001b[1;33m\u001b[0m\u001b[1;33m\u001b[0m\u001b[0m\n",
      "\u001b[1;32mC:\\ProgramData\\Anaconda3\\lib\\site-packages\\matplotlib\\backends\\backend_agg.py\u001b[0m in \u001b[0;36mprint_png\u001b[1;34m(self, filename_or_obj, metadata, pil_kwargs, *args, **kwargs)\u001b[0m\n\u001b[0;32m    525\u001b[0m \u001b[1;33m\u001b[0m\u001b[0m\n\u001b[0;32m    526\u001b[0m         \u001b[1;32melse\u001b[0m\u001b[1;33m:\u001b[0m\u001b[1;33m\u001b[0m\u001b[1;33m\u001b[0m\u001b[0m\n\u001b[1;32m--> 527\u001b[1;33m             \u001b[0mFigureCanvasAgg\u001b[0m\u001b[1;33m.\u001b[0m\u001b[0mdraw\u001b[0m\u001b[1;33m(\u001b[0m\u001b[0mself\u001b[0m\u001b[1;33m)\u001b[0m\u001b[1;33m\u001b[0m\u001b[1;33m\u001b[0m\u001b[0m\n\u001b[0m\u001b[0;32m    528\u001b[0m             \u001b[0mrenderer\u001b[0m \u001b[1;33m=\u001b[0m \u001b[0mself\u001b[0m\u001b[1;33m.\u001b[0m\u001b[0mget_renderer\u001b[0m\u001b[1;33m(\u001b[0m\u001b[1;33m)\u001b[0m\u001b[1;33m\u001b[0m\u001b[1;33m\u001b[0m\u001b[0m\n\u001b[0;32m    529\u001b[0m             \u001b[1;32mwith\u001b[0m \u001b[0mcbook\u001b[0m\u001b[1;33m.\u001b[0m\u001b[0m_setattr_cm\u001b[0m\u001b[1;33m(\u001b[0m\u001b[0mrenderer\u001b[0m\u001b[1;33m,\u001b[0m \u001b[0mdpi\u001b[0m\u001b[1;33m=\u001b[0m\u001b[0mself\u001b[0m\u001b[1;33m.\u001b[0m\u001b[0mfigure\u001b[0m\u001b[1;33m.\u001b[0m\u001b[0mdpi\u001b[0m\u001b[1;33m)\u001b[0m\u001b[1;33m,\u001b[0m\u001b[0;31m \u001b[0m\u001b[0;31m\\\u001b[0m\u001b[1;33m\u001b[0m\u001b[1;33m\u001b[0m\u001b[0m\n",
      "\u001b[1;32mC:\\ProgramData\\Anaconda3\\lib\\site-packages\\matplotlib\\backends\\backend_agg.py\u001b[0m in \u001b[0;36mdraw\u001b[1;34m(self)\u001b[0m\n\u001b[0;32m    384\u001b[0m         \u001b[0mDraw\u001b[0m \u001b[0mthe\u001b[0m \u001b[0mfigure\u001b[0m \u001b[0musing\u001b[0m \u001b[0mthe\u001b[0m \u001b[0mrenderer\u001b[0m\u001b[1;33m.\u001b[0m\u001b[1;33m\u001b[0m\u001b[1;33m\u001b[0m\u001b[0m\n\u001b[0;32m    385\u001b[0m         \"\"\"\n\u001b[1;32m--> 386\u001b[1;33m         \u001b[0mself\u001b[0m\u001b[1;33m.\u001b[0m\u001b[0mrenderer\u001b[0m \u001b[1;33m=\u001b[0m \u001b[0mself\u001b[0m\u001b[1;33m.\u001b[0m\u001b[0mget_renderer\u001b[0m\u001b[1;33m(\u001b[0m\u001b[0mcleared\u001b[0m\u001b[1;33m=\u001b[0m\u001b[1;32mTrue\u001b[0m\u001b[1;33m)\u001b[0m\u001b[1;33m\u001b[0m\u001b[1;33m\u001b[0m\u001b[0m\n\u001b[0m\u001b[0;32m    387\u001b[0m         \u001b[1;32mwith\u001b[0m \u001b[0mRendererAgg\u001b[0m\u001b[1;33m.\u001b[0m\u001b[0mlock\u001b[0m\u001b[1;33m:\u001b[0m\u001b[1;33m\u001b[0m\u001b[1;33m\u001b[0m\u001b[0m\n\u001b[0;32m    388\u001b[0m             \u001b[0mself\u001b[0m\u001b[1;33m.\u001b[0m\u001b[0mfigure\u001b[0m\u001b[1;33m.\u001b[0m\u001b[0mdraw\u001b[0m\u001b[1;33m(\u001b[0m\u001b[0mself\u001b[0m\u001b[1;33m.\u001b[0m\u001b[0mrenderer\u001b[0m\u001b[1;33m)\u001b[0m\u001b[1;33m\u001b[0m\u001b[1;33m\u001b[0m\u001b[0m\n",
      "\u001b[1;32mC:\\ProgramData\\Anaconda3\\lib\\site-packages\\matplotlib\\backends\\backend_agg.py\u001b[0m in \u001b[0;36mget_renderer\u001b[1;34m(self, cleared)\u001b[0m\n\u001b[0;32m    397\u001b[0m                           and getattr(self, \"_lastKey\", None) == key)\n\u001b[0;32m    398\u001b[0m         \u001b[1;32mif\u001b[0m \u001b[1;32mnot\u001b[0m \u001b[0mreuse_renderer\u001b[0m\u001b[1;33m:\u001b[0m\u001b[1;33m\u001b[0m\u001b[1;33m\u001b[0m\u001b[0m\n\u001b[1;32m--> 399\u001b[1;33m             \u001b[0mself\u001b[0m\u001b[1;33m.\u001b[0m\u001b[0mrenderer\u001b[0m \u001b[1;33m=\u001b[0m \u001b[0mRendererAgg\u001b[0m\u001b[1;33m(\u001b[0m\u001b[0mw\u001b[0m\u001b[1;33m,\u001b[0m \u001b[0mh\u001b[0m\u001b[1;33m,\u001b[0m \u001b[0mself\u001b[0m\u001b[1;33m.\u001b[0m\u001b[0mfigure\u001b[0m\u001b[1;33m.\u001b[0m\u001b[0mdpi\u001b[0m\u001b[1;33m)\u001b[0m\u001b[1;33m\u001b[0m\u001b[1;33m\u001b[0m\u001b[0m\n\u001b[0m\u001b[0;32m    400\u001b[0m             \u001b[0mself\u001b[0m\u001b[1;33m.\u001b[0m\u001b[0m_lastKey\u001b[0m \u001b[1;33m=\u001b[0m \u001b[0mkey\u001b[0m\u001b[1;33m\u001b[0m\u001b[1;33m\u001b[0m\u001b[0m\n\u001b[0;32m    401\u001b[0m         \u001b[1;32melif\u001b[0m \u001b[0mcleared\u001b[0m\u001b[1;33m:\u001b[0m\u001b[1;33m\u001b[0m\u001b[1;33m\u001b[0m\u001b[0m\n",
      "\u001b[1;32mC:\\ProgramData\\Anaconda3\\lib\\site-packages\\matplotlib\\backends\\backend_agg.py\u001b[0m in \u001b[0;36m__init__\u001b[1;34m(self, width, height, dpi)\u001b[0m\n\u001b[0;32m     84\u001b[0m         \u001b[0mself\u001b[0m\u001b[1;33m.\u001b[0m\u001b[0mwidth\u001b[0m \u001b[1;33m=\u001b[0m \u001b[0mwidth\u001b[0m\u001b[1;33m\u001b[0m\u001b[1;33m\u001b[0m\u001b[0m\n\u001b[0;32m     85\u001b[0m         \u001b[0mself\u001b[0m\u001b[1;33m.\u001b[0m\u001b[0mheight\u001b[0m \u001b[1;33m=\u001b[0m \u001b[0mheight\u001b[0m\u001b[1;33m\u001b[0m\u001b[1;33m\u001b[0m\u001b[0m\n\u001b[1;32m---> 86\u001b[1;33m         \u001b[0mself\u001b[0m\u001b[1;33m.\u001b[0m\u001b[0m_renderer\u001b[0m \u001b[1;33m=\u001b[0m \u001b[0m_RendererAgg\u001b[0m\u001b[1;33m(\u001b[0m\u001b[0mint\u001b[0m\u001b[1;33m(\u001b[0m\u001b[0mwidth\u001b[0m\u001b[1;33m)\u001b[0m\u001b[1;33m,\u001b[0m \u001b[0mint\u001b[0m\u001b[1;33m(\u001b[0m\u001b[0mheight\u001b[0m\u001b[1;33m)\u001b[0m\u001b[1;33m,\u001b[0m \u001b[0mdpi\u001b[0m\u001b[1;33m)\u001b[0m\u001b[1;33m\u001b[0m\u001b[1;33m\u001b[0m\u001b[0m\n\u001b[0m\u001b[0;32m     87\u001b[0m         \u001b[0mself\u001b[0m\u001b[1;33m.\u001b[0m\u001b[0m_filter_renderers\u001b[0m \u001b[1;33m=\u001b[0m \u001b[1;33m[\u001b[0m\u001b[1;33m]\u001b[0m\u001b[1;33m\u001b[0m\u001b[1;33m\u001b[0m\u001b[0m\n\u001b[0;32m     88\u001b[0m \u001b[1;33m\u001b[0m\u001b[0m\n",
      "\u001b[1;31mValueError\u001b[0m: Image size of 360000x240000 pixels is too large. It must be less than 2^16 in each direction."
     ]
    },
    {
     "name": "stdout",
     "output_type": "stream",
     "text": [
      "Error in callback <function install_repl_displayhook.<locals>.post_execute at 0x000001AE23863828> (for post_execute):\n"
     ]
    },
    {
     "ename": "ValueError",
     "evalue": "Image size of 86400x57600 pixels is too large. It must be less than 2^16 in each direction.",
     "output_type": "error",
     "traceback": [
      "\u001b[1;31m---------------------------------------------------------------------------\u001b[0m",
      "\u001b[1;31mValueError\u001b[0m                                Traceback (most recent call last)",
      "\u001b[1;32mC:\\ProgramData\\Anaconda3\\lib\\site-packages\\matplotlib\\pyplot.py\u001b[0m in \u001b[0;36mpost_execute\u001b[1;34m()\u001b[0m\n\u001b[0;32m    107\u001b[0m             \u001b[1;32mdef\u001b[0m \u001b[0mpost_execute\u001b[0m\u001b[1;33m(\u001b[0m\u001b[1;33m)\u001b[0m\u001b[1;33m:\u001b[0m\u001b[1;33m\u001b[0m\u001b[1;33m\u001b[0m\u001b[0m\n\u001b[0;32m    108\u001b[0m                 \u001b[1;32mif\u001b[0m \u001b[0mmatplotlib\u001b[0m\u001b[1;33m.\u001b[0m\u001b[0mis_interactive\u001b[0m\u001b[1;33m(\u001b[0m\u001b[1;33m)\u001b[0m\u001b[1;33m:\u001b[0m\u001b[1;33m\u001b[0m\u001b[1;33m\u001b[0m\u001b[0m\n\u001b[1;32m--> 109\u001b[1;33m                     \u001b[0mdraw_all\u001b[0m\u001b[1;33m(\u001b[0m\u001b[1;33m)\u001b[0m\u001b[1;33m\u001b[0m\u001b[1;33m\u001b[0m\u001b[0m\n\u001b[0m\u001b[0;32m    110\u001b[0m \u001b[1;33m\u001b[0m\u001b[0m\n\u001b[0;32m    111\u001b[0m             \u001b[1;31m# IPython >= 2\u001b[0m\u001b[1;33m\u001b[0m\u001b[1;33m\u001b[0m\u001b[1;33m\u001b[0m\u001b[0m\n",
      "\u001b[1;32mC:\\ProgramData\\Anaconda3\\lib\\site-packages\\matplotlib\\_pylab_helpers.py\u001b[0m in \u001b[0;36mdraw_all\u001b[1;34m(cls, force)\u001b[0m\n\u001b[0;32m    126\u001b[0m         \u001b[1;32mfor\u001b[0m \u001b[0mf_mgr\u001b[0m \u001b[1;32min\u001b[0m \u001b[0mcls\u001b[0m\u001b[1;33m.\u001b[0m\u001b[0mget_all_fig_managers\u001b[0m\u001b[1;33m(\u001b[0m\u001b[1;33m)\u001b[0m\u001b[1;33m:\u001b[0m\u001b[1;33m\u001b[0m\u001b[1;33m\u001b[0m\u001b[0m\n\u001b[0;32m    127\u001b[0m             \u001b[1;32mif\u001b[0m \u001b[0mforce\u001b[0m \u001b[1;32mor\u001b[0m \u001b[0mf_mgr\u001b[0m\u001b[1;33m.\u001b[0m\u001b[0mcanvas\u001b[0m\u001b[1;33m.\u001b[0m\u001b[0mfigure\u001b[0m\u001b[1;33m.\u001b[0m\u001b[0mstale\u001b[0m\u001b[1;33m:\u001b[0m\u001b[1;33m\u001b[0m\u001b[1;33m\u001b[0m\u001b[0m\n\u001b[1;32m--> 128\u001b[1;33m                 \u001b[0mf_mgr\u001b[0m\u001b[1;33m.\u001b[0m\u001b[0mcanvas\u001b[0m\u001b[1;33m.\u001b[0m\u001b[0mdraw_idle\u001b[0m\u001b[1;33m(\u001b[0m\u001b[1;33m)\u001b[0m\u001b[1;33m\u001b[0m\u001b[1;33m\u001b[0m\u001b[0m\n\u001b[0m\u001b[0;32m    129\u001b[0m \u001b[1;33m\u001b[0m\u001b[0m\n\u001b[0;32m    130\u001b[0m \u001b[0matexit\u001b[0m\u001b[1;33m.\u001b[0m\u001b[0mregister\u001b[0m\u001b[1;33m(\u001b[0m\u001b[0mGcf\u001b[0m\u001b[1;33m.\u001b[0m\u001b[0mdestroy_all\u001b[0m\u001b[1;33m)\u001b[0m\u001b[1;33m\u001b[0m\u001b[1;33m\u001b[0m\u001b[0m\n",
      "\u001b[1;32mC:\\ProgramData\\Anaconda3\\lib\\site-packages\\matplotlib\\backend_bases.py\u001b[0m in \u001b[0;36mdraw_idle\u001b[1;34m(self, *args, **kwargs)\u001b[0m\n\u001b[0;32m   1905\u001b[0m         \u001b[1;32mif\u001b[0m \u001b[1;32mnot\u001b[0m \u001b[0mself\u001b[0m\u001b[1;33m.\u001b[0m\u001b[0m_is_idle_drawing\u001b[0m\u001b[1;33m:\u001b[0m\u001b[1;33m\u001b[0m\u001b[1;33m\u001b[0m\u001b[0m\n\u001b[0;32m   1906\u001b[0m             \u001b[1;32mwith\u001b[0m \u001b[0mself\u001b[0m\u001b[1;33m.\u001b[0m\u001b[0m_idle_draw_cntx\u001b[0m\u001b[1;33m(\u001b[0m\u001b[1;33m)\u001b[0m\u001b[1;33m:\u001b[0m\u001b[1;33m\u001b[0m\u001b[1;33m\u001b[0m\u001b[0m\n\u001b[1;32m-> 1907\u001b[1;33m                 \u001b[0mself\u001b[0m\u001b[1;33m.\u001b[0m\u001b[0mdraw\u001b[0m\u001b[1;33m(\u001b[0m\u001b[1;33m*\u001b[0m\u001b[0margs\u001b[0m\u001b[1;33m,\u001b[0m \u001b[1;33m**\u001b[0m\u001b[0mkwargs\u001b[0m\u001b[1;33m)\u001b[0m\u001b[1;33m\u001b[0m\u001b[1;33m\u001b[0m\u001b[0m\n\u001b[0m\u001b[0;32m   1908\u001b[0m \u001b[1;33m\u001b[0m\u001b[0m\n\u001b[0;32m   1909\u001b[0m     \u001b[1;32mdef\u001b[0m \u001b[0mdraw_cursor\u001b[0m\u001b[1;33m(\u001b[0m\u001b[0mself\u001b[0m\u001b[1;33m,\u001b[0m \u001b[0mevent\u001b[0m\u001b[1;33m)\u001b[0m\u001b[1;33m:\u001b[0m\u001b[1;33m\u001b[0m\u001b[1;33m\u001b[0m\u001b[0m\n",
      "\u001b[1;32mC:\\ProgramData\\Anaconda3\\lib\\site-packages\\matplotlib\\backends\\backend_agg.py\u001b[0m in \u001b[0;36mdraw\u001b[1;34m(self)\u001b[0m\n\u001b[0;32m    384\u001b[0m         \u001b[0mDraw\u001b[0m \u001b[0mthe\u001b[0m \u001b[0mfigure\u001b[0m \u001b[0musing\u001b[0m \u001b[0mthe\u001b[0m \u001b[0mrenderer\u001b[0m\u001b[1;33m.\u001b[0m\u001b[1;33m\u001b[0m\u001b[1;33m\u001b[0m\u001b[0m\n\u001b[0;32m    385\u001b[0m         \"\"\"\n\u001b[1;32m--> 386\u001b[1;33m         \u001b[0mself\u001b[0m\u001b[1;33m.\u001b[0m\u001b[0mrenderer\u001b[0m \u001b[1;33m=\u001b[0m \u001b[0mself\u001b[0m\u001b[1;33m.\u001b[0m\u001b[0mget_renderer\u001b[0m\u001b[1;33m(\u001b[0m\u001b[0mcleared\u001b[0m\u001b[1;33m=\u001b[0m\u001b[1;32mTrue\u001b[0m\u001b[1;33m)\u001b[0m\u001b[1;33m\u001b[0m\u001b[1;33m\u001b[0m\u001b[0m\n\u001b[0m\u001b[0;32m    387\u001b[0m         \u001b[1;32mwith\u001b[0m \u001b[0mRendererAgg\u001b[0m\u001b[1;33m.\u001b[0m\u001b[0mlock\u001b[0m\u001b[1;33m:\u001b[0m\u001b[1;33m\u001b[0m\u001b[1;33m\u001b[0m\u001b[0m\n\u001b[0;32m    388\u001b[0m             \u001b[0mself\u001b[0m\u001b[1;33m.\u001b[0m\u001b[0mfigure\u001b[0m\u001b[1;33m.\u001b[0m\u001b[0mdraw\u001b[0m\u001b[1;33m(\u001b[0m\u001b[0mself\u001b[0m\u001b[1;33m.\u001b[0m\u001b[0mrenderer\u001b[0m\u001b[1;33m)\u001b[0m\u001b[1;33m\u001b[0m\u001b[1;33m\u001b[0m\u001b[0m\n",
      "\u001b[1;32mC:\\ProgramData\\Anaconda3\\lib\\site-packages\\matplotlib\\backends\\backend_agg.py\u001b[0m in \u001b[0;36mget_renderer\u001b[1;34m(self, cleared)\u001b[0m\n\u001b[0;32m    397\u001b[0m                           and getattr(self, \"_lastKey\", None) == key)\n\u001b[0;32m    398\u001b[0m         \u001b[1;32mif\u001b[0m \u001b[1;32mnot\u001b[0m \u001b[0mreuse_renderer\u001b[0m\u001b[1;33m:\u001b[0m\u001b[1;33m\u001b[0m\u001b[1;33m\u001b[0m\u001b[0m\n\u001b[1;32m--> 399\u001b[1;33m             \u001b[0mself\u001b[0m\u001b[1;33m.\u001b[0m\u001b[0mrenderer\u001b[0m \u001b[1;33m=\u001b[0m \u001b[0mRendererAgg\u001b[0m\u001b[1;33m(\u001b[0m\u001b[0mw\u001b[0m\u001b[1;33m,\u001b[0m \u001b[0mh\u001b[0m\u001b[1;33m,\u001b[0m \u001b[0mself\u001b[0m\u001b[1;33m.\u001b[0m\u001b[0mfigure\u001b[0m\u001b[1;33m.\u001b[0m\u001b[0mdpi\u001b[0m\u001b[1;33m)\u001b[0m\u001b[1;33m\u001b[0m\u001b[1;33m\u001b[0m\u001b[0m\n\u001b[0m\u001b[0;32m    400\u001b[0m             \u001b[0mself\u001b[0m\u001b[1;33m.\u001b[0m\u001b[0m_lastKey\u001b[0m \u001b[1;33m=\u001b[0m \u001b[0mkey\u001b[0m\u001b[1;33m\u001b[0m\u001b[1;33m\u001b[0m\u001b[0m\n\u001b[0;32m    401\u001b[0m         \u001b[1;32melif\u001b[0m \u001b[0mcleared\u001b[0m\u001b[1;33m:\u001b[0m\u001b[1;33m\u001b[0m\u001b[1;33m\u001b[0m\u001b[0m\n",
      "\u001b[1;32mC:\\ProgramData\\Anaconda3\\lib\\site-packages\\matplotlib\\backends\\backend_agg.py\u001b[0m in \u001b[0;36m__init__\u001b[1;34m(self, width, height, dpi)\u001b[0m\n\u001b[0;32m     84\u001b[0m         \u001b[0mself\u001b[0m\u001b[1;33m.\u001b[0m\u001b[0mwidth\u001b[0m \u001b[1;33m=\u001b[0m \u001b[0mwidth\u001b[0m\u001b[1;33m\u001b[0m\u001b[1;33m\u001b[0m\u001b[0m\n\u001b[0;32m     85\u001b[0m         \u001b[0mself\u001b[0m\u001b[1;33m.\u001b[0m\u001b[0mheight\u001b[0m \u001b[1;33m=\u001b[0m \u001b[0mheight\u001b[0m\u001b[1;33m\u001b[0m\u001b[1;33m\u001b[0m\u001b[0m\n\u001b[1;32m---> 86\u001b[1;33m         \u001b[0mself\u001b[0m\u001b[1;33m.\u001b[0m\u001b[0m_renderer\u001b[0m \u001b[1;33m=\u001b[0m \u001b[0m_RendererAgg\u001b[0m\u001b[1;33m(\u001b[0m\u001b[0mint\u001b[0m\u001b[1;33m(\u001b[0m\u001b[0mwidth\u001b[0m\u001b[1;33m)\u001b[0m\u001b[1;33m,\u001b[0m \u001b[0mint\u001b[0m\u001b[1;33m(\u001b[0m\u001b[0mheight\u001b[0m\u001b[1;33m)\u001b[0m\u001b[1;33m,\u001b[0m \u001b[0mdpi\u001b[0m\u001b[1;33m)\u001b[0m\u001b[1;33m\u001b[0m\u001b[1;33m\u001b[0m\u001b[0m\n\u001b[0m\u001b[0;32m     87\u001b[0m         \u001b[0mself\u001b[0m\u001b[1;33m.\u001b[0m\u001b[0m_filter_renderers\u001b[0m \u001b[1;33m=\u001b[0m \u001b[1;33m[\u001b[0m\u001b[1;33m]\u001b[0m\u001b[1;33m\u001b[0m\u001b[1;33m\u001b[0m\u001b[0m\n\u001b[0;32m     88\u001b[0m \u001b[1;33m\u001b[0m\u001b[0m\n",
      "\u001b[1;31mValueError\u001b[0m: Image size of 86400x57600 pixels is too large. It must be less than 2^16 in each direction."
     ]
    },
    {
     "ename": "ValueError",
     "evalue": "Image size of 86400x57600 pixels is too large. It must be less than 2^16 in each direction.",
     "output_type": "error",
     "traceback": [
      "\u001b[1;31m---------------------------------------------------------------------------\u001b[0m",
      "\u001b[1;31mValueError\u001b[0m                                Traceback (most recent call last)",
      "\u001b[1;32mC:\\ProgramData\\Anaconda3\\lib\\site-packages\\IPython\\core\\formatters.py\u001b[0m in \u001b[0;36m__call__\u001b[1;34m(self, obj)\u001b[0m\n\u001b[0;32m    339\u001b[0m                 \u001b[1;32mpass\u001b[0m\u001b[1;33m\u001b[0m\u001b[1;33m\u001b[0m\u001b[0m\n\u001b[0;32m    340\u001b[0m             \u001b[1;32melse\u001b[0m\u001b[1;33m:\u001b[0m\u001b[1;33m\u001b[0m\u001b[1;33m\u001b[0m\u001b[0m\n\u001b[1;32m--> 341\u001b[1;33m                 \u001b[1;32mreturn\u001b[0m \u001b[0mprinter\u001b[0m\u001b[1;33m(\u001b[0m\u001b[0mobj\u001b[0m\u001b[1;33m)\u001b[0m\u001b[1;33m\u001b[0m\u001b[1;33m\u001b[0m\u001b[0m\n\u001b[0m\u001b[0;32m    342\u001b[0m             \u001b[1;31m# Finally look for special method names\u001b[0m\u001b[1;33m\u001b[0m\u001b[1;33m\u001b[0m\u001b[1;33m\u001b[0m\u001b[0m\n\u001b[0;32m    343\u001b[0m             \u001b[0mmethod\u001b[0m \u001b[1;33m=\u001b[0m \u001b[0mget_real_method\u001b[0m\u001b[1;33m(\u001b[0m\u001b[0mobj\u001b[0m\u001b[1;33m,\u001b[0m \u001b[0mself\u001b[0m\u001b[1;33m.\u001b[0m\u001b[0mprint_method\u001b[0m\u001b[1;33m)\u001b[0m\u001b[1;33m\u001b[0m\u001b[1;33m\u001b[0m\u001b[0m\n",
      "\u001b[1;32mC:\\ProgramData\\Anaconda3\\lib\\site-packages\\IPython\\core\\pylabtools.py\u001b[0m in \u001b[0;36m<lambda>\u001b[1;34m(fig)\u001b[0m\n\u001b[0;32m    242\u001b[0m \u001b[1;33m\u001b[0m\u001b[0m\n\u001b[0;32m    243\u001b[0m     \u001b[1;32mif\u001b[0m \u001b[1;34m'png'\u001b[0m \u001b[1;32min\u001b[0m \u001b[0mformats\u001b[0m\u001b[1;33m:\u001b[0m\u001b[1;33m\u001b[0m\u001b[1;33m\u001b[0m\u001b[0m\n\u001b[1;32m--> 244\u001b[1;33m         \u001b[0mpng_formatter\u001b[0m\u001b[1;33m.\u001b[0m\u001b[0mfor_type\u001b[0m\u001b[1;33m(\u001b[0m\u001b[0mFigure\u001b[0m\u001b[1;33m,\u001b[0m \u001b[1;32mlambda\u001b[0m \u001b[0mfig\u001b[0m\u001b[1;33m:\u001b[0m \u001b[0mprint_figure\u001b[0m\u001b[1;33m(\u001b[0m\u001b[0mfig\u001b[0m\u001b[1;33m,\u001b[0m \u001b[1;34m'png'\u001b[0m\u001b[1;33m,\u001b[0m \u001b[1;33m**\u001b[0m\u001b[0mkwargs\u001b[0m\u001b[1;33m)\u001b[0m\u001b[1;33m)\u001b[0m\u001b[1;33m\u001b[0m\u001b[1;33m\u001b[0m\u001b[0m\n\u001b[0m\u001b[0;32m    245\u001b[0m     \u001b[1;32mif\u001b[0m \u001b[1;34m'retina'\u001b[0m \u001b[1;32min\u001b[0m \u001b[0mformats\u001b[0m \u001b[1;32mor\u001b[0m \u001b[1;34m'png2x'\u001b[0m \u001b[1;32min\u001b[0m \u001b[0mformats\u001b[0m\u001b[1;33m:\u001b[0m\u001b[1;33m\u001b[0m\u001b[1;33m\u001b[0m\u001b[0m\n\u001b[0;32m    246\u001b[0m         \u001b[0mpng_formatter\u001b[0m\u001b[1;33m.\u001b[0m\u001b[0mfor_type\u001b[0m\u001b[1;33m(\u001b[0m\u001b[0mFigure\u001b[0m\u001b[1;33m,\u001b[0m \u001b[1;32mlambda\u001b[0m \u001b[0mfig\u001b[0m\u001b[1;33m:\u001b[0m \u001b[0mretina_figure\u001b[0m\u001b[1;33m(\u001b[0m\u001b[0mfig\u001b[0m\u001b[1;33m,\u001b[0m \u001b[1;33m**\u001b[0m\u001b[0mkwargs\u001b[0m\u001b[1;33m)\u001b[0m\u001b[1;33m)\u001b[0m\u001b[1;33m\u001b[0m\u001b[1;33m\u001b[0m\u001b[0m\n",
      "\u001b[1;32mC:\\ProgramData\\Anaconda3\\lib\\site-packages\\IPython\\core\\pylabtools.py\u001b[0m in \u001b[0;36mprint_figure\u001b[1;34m(fig, fmt, bbox_inches, **kwargs)\u001b[0m\n\u001b[0;32m    126\u001b[0m \u001b[1;33m\u001b[0m\u001b[0m\n\u001b[0;32m    127\u001b[0m     \u001b[0mbytes_io\u001b[0m \u001b[1;33m=\u001b[0m \u001b[0mBytesIO\u001b[0m\u001b[1;33m(\u001b[0m\u001b[1;33m)\u001b[0m\u001b[1;33m\u001b[0m\u001b[1;33m\u001b[0m\u001b[0m\n\u001b[1;32m--> 128\u001b[1;33m     \u001b[0mfig\u001b[0m\u001b[1;33m.\u001b[0m\u001b[0mcanvas\u001b[0m\u001b[1;33m.\u001b[0m\u001b[0mprint_figure\u001b[0m\u001b[1;33m(\u001b[0m\u001b[0mbytes_io\u001b[0m\u001b[1;33m,\u001b[0m \u001b[1;33m**\u001b[0m\u001b[0mkw\u001b[0m\u001b[1;33m)\u001b[0m\u001b[1;33m\u001b[0m\u001b[1;33m\u001b[0m\u001b[0m\n\u001b[0m\u001b[0;32m    129\u001b[0m     \u001b[0mdata\u001b[0m \u001b[1;33m=\u001b[0m \u001b[0mbytes_io\u001b[0m\u001b[1;33m.\u001b[0m\u001b[0mgetvalue\u001b[0m\u001b[1;33m(\u001b[0m\u001b[1;33m)\u001b[0m\u001b[1;33m\u001b[0m\u001b[1;33m\u001b[0m\u001b[0m\n\u001b[0;32m    130\u001b[0m     \u001b[1;32mif\u001b[0m \u001b[0mfmt\u001b[0m \u001b[1;33m==\u001b[0m \u001b[1;34m'svg'\u001b[0m\u001b[1;33m:\u001b[0m\u001b[1;33m\u001b[0m\u001b[1;33m\u001b[0m\u001b[0m\n",
      "\u001b[1;32mC:\\ProgramData\\Anaconda3\\lib\\site-packages\\matplotlib\\backend_bases.py\u001b[0m in \u001b[0;36mprint_figure\u001b[1;34m(self, filename, dpi, facecolor, edgecolor, orientation, format, bbox_inches, **kwargs)\u001b[0m\n\u001b[0;32m   2054\u001b[0m                         \u001b[0morientation\u001b[0m\u001b[1;33m=\u001b[0m\u001b[0morientation\u001b[0m\u001b[1;33m,\u001b[0m\u001b[1;33m\u001b[0m\u001b[1;33m\u001b[0m\u001b[0m\n\u001b[0;32m   2055\u001b[0m                         \u001b[0mdryrun\u001b[0m\u001b[1;33m=\u001b[0m\u001b[1;32mTrue\u001b[0m\u001b[1;33m,\u001b[0m\u001b[1;33m\u001b[0m\u001b[1;33m\u001b[0m\u001b[0m\n\u001b[1;32m-> 2056\u001b[1;33m                         **kwargs)\n\u001b[0m\u001b[0;32m   2057\u001b[0m                     \u001b[0mrenderer\u001b[0m \u001b[1;33m=\u001b[0m \u001b[0mself\u001b[0m\u001b[1;33m.\u001b[0m\u001b[0mfigure\u001b[0m\u001b[1;33m.\u001b[0m\u001b[0m_cachedRenderer\u001b[0m\u001b[1;33m\u001b[0m\u001b[1;33m\u001b[0m\u001b[0m\n\u001b[0;32m   2058\u001b[0m                     \u001b[0mbbox_artists\u001b[0m \u001b[1;33m=\u001b[0m \u001b[0mkwargs\u001b[0m\u001b[1;33m.\u001b[0m\u001b[0mpop\u001b[0m\u001b[1;33m(\u001b[0m\u001b[1;34m\"bbox_extra_artists\"\u001b[0m\u001b[1;33m,\u001b[0m \u001b[1;32mNone\u001b[0m\u001b[1;33m)\u001b[0m\u001b[1;33m\u001b[0m\u001b[1;33m\u001b[0m\u001b[0m\n",
      "\u001b[1;32mC:\\ProgramData\\Anaconda3\\lib\\site-packages\\matplotlib\\backends\\backend_agg.py\u001b[0m in \u001b[0;36mprint_png\u001b[1;34m(self, filename_or_obj, metadata, pil_kwargs, *args, **kwargs)\u001b[0m\n\u001b[0;32m    525\u001b[0m \u001b[1;33m\u001b[0m\u001b[0m\n\u001b[0;32m    526\u001b[0m         \u001b[1;32melse\u001b[0m\u001b[1;33m:\u001b[0m\u001b[1;33m\u001b[0m\u001b[1;33m\u001b[0m\u001b[0m\n\u001b[1;32m--> 527\u001b[1;33m             \u001b[0mFigureCanvasAgg\u001b[0m\u001b[1;33m.\u001b[0m\u001b[0mdraw\u001b[0m\u001b[1;33m(\u001b[0m\u001b[0mself\u001b[0m\u001b[1;33m)\u001b[0m\u001b[1;33m\u001b[0m\u001b[1;33m\u001b[0m\u001b[0m\n\u001b[0m\u001b[0;32m    528\u001b[0m             \u001b[0mrenderer\u001b[0m \u001b[1;33m=\u001b[0m \u001b[0mself\u001b[0m\u001b[1;33m.\u001b[0m\u001b[0mget_renderer\u001b[0m\u001b[1;33m(\u001b[0m\u001b[1;33m)\u001b[0m\u001b[1;33m\u001b[0m\u001b[1;33m\u001b[0m\u001b[0m\n\u001b[0;32m    529\u001b[0m             \u001b[1;32mwith\u001b[0m \u001b[0mcbook\u001b[0m\u001b[1;33m.\u001b[0m\u001b[0m_setattr_cm\u001b[0m\u001b[1;33m(\u001b[0m\u001b[0mrenderer\u001b[0m\u001b[1;33m,\u001b[0m \u001b[0mdpi\u001b[0m\u001b[1;33m=\u001b[0m\u001b[0mself\u001b[0m\u001b[1;33m.\u001b[0m\u001b[0mfigure\u001b[0m\u001b[1;33m.\u001b[0m\u001b[0mdpi\u001b[0m\u001b[1;33m)\u001b[0m\u001b[1;33m,\u001b[0m\u001b[0;31m \u001b[0m\u001b[0;31m\\\u001b[0m\u001b[1;33m\u001b[0m\u001b[1;33m\u001b[0m\u001b[0m\n",
      "\u001b[1;32mC:\\ProgramData\\Anaconda3\\lib\\site-packages\\matplotlib\\backends\\backend_agg.py\u001b[0m in \u001b[0;36mdraw\u001b[1;34m(self)\u001b[0m\n\u001b[0;32m    384\u001b[0m         \u001b[0mDraw\u001b[0m \u001b[0mthe\u001b[0m \u001b[0mfigure\u001b[0m \u001b[0musing\u001b[0m \u001b[0mthe\u001b[0m \u001b[0mrenderer\u001b[0m\u001b[1;33m.\u001b[0m\u001b[1;33m\u001b[0m\u001b[1;33m\u001b[0m\u001b[0m\n\u001b[0;32m    385\u001b[0m         \"\"\"\n\u001b[1;32m--> 386\u001b[1;33m         \u001b[0mself\u001b[0m\u001b[1;33m.\u001b[0m\u001b[0mrenderer\u001b[0m \u001b[1;33m=\u001b[0m \u001b[0mself\u001b[0m\u001b[1;33m.\u001b[0m\u001b[0mget_renderer\u001b[0m\u001b[1;33m(\u001b[0m\u001b[0mcleared\u001b[0m\u001b[1;33m=\u001b[0m\u001b[1;32mTrue\u001b[0m\u001b[1;33m)\u001b[0m\u001b[1;33m\u001b[0m\u001b[1;33m\u001b[0m\u001b[0m\n\u001b[0m\u001b[0;32m    387\u001b[0m         \u001b[1;32mwith\u001b[0m \u001b[0mRendererAgg\u001b[0m\u001b[1;33m.\u001b[0m\u001b[0mlock\u001b[0m\u001b[1;33m:\u001b[0m\u001b[1;33m\u001b[0m\u001b[1;33m\u001b[0m\u001b[0m\n\u001b[0;32m    388\u001b[0m             \u001b[0mself\u001b[0m\u001b[1;33m.\u001b[0m\u001b[0mfigure\u001b[0m\u001b[1;33m.\u001b[0m\u001b[0mdraw\u001b[0m\u001b[1;33m(\u001b[0m\u001b[0mself\u001b[0m\u001b[1;33m.\u001b[0m\u001b[0mrenderer\u001b[0m\u001b[1;33m)\u001b[0m\u001b[1;33m\u001b[0m\u001b[1;33m\u001b[0m\u001b[0m\n",
      "\u001b[1;32mC:\\ProgramData\\Anaconda3\\lib\\site-packages\\matplotlib\\backends\\backend_agg.py\u001b[0m in \u001b[0;36mget_renderer\u001b[1;34m(self, cleared)\u001b[0m\n\u001b[0;32m    397\u001b[0m                           and getattr(self, \"_lastKey\", None) == key)\n\u001b[0;32m    398\u001b[0m         \u001b[1;32mif\u001b[0m \u001b[1;32mnot\u001b[0m \u001b[0mreuse_renderer\u001b[0m\u001b[1;33m:\u001b[0m\u001b[1;33m\u001b[0m\u001b[1;33m\u001b[0m\u001b[0m\n\u001b[1;32m--> 399\u001b[1;33m             \u001b[0mself\u001b[0m\u001b[1;33m.\u001b[0m\u001b[0mrenderer\u001b[0m \u001b[1;33m=\u001b[0m \u001b[0mRendererAgg\u001b[0m\u001b[1;33m(\u001b[0m\u001b[0mw\u001b[0m\u001b[1;33m,\u001b[0m \u001b[0mh\u001b[0m\u001b[1;33m,\u001b[0m \u001b[0mself\u001b[0m\u001b[1;33m.\u001b[0m\u001b[0mfigure\u001b[0m\u001b[1;33m.\u001b[0m\u001b[0mdpi\u001b[0m\u001b[1;33m)\u001b[0m\u001b[1;33m\u001b[0m\u001b[1;33m\u001b[0m\u001b[0m\n\u001b[0m\u001b[0;32m    400\u001b[0m             \u001b[0mself\u001b[0m\u001b[1;33m.\u001b[0m\u001b[0m_lastKey\u001b[0m \u001b[1;33m=\u001b[0m \u001b[0mkey\u001b[0m\u001b[1;33m\u001b[0m\u001b[1;33m\u001b[0m\u001b[0m\n\u001b[0;32m    401\u001b[0m         \u001b[1;32melif\u001b[0m \u001b[0mcleared\u001b[0m\u001b[1;33m:\u001b[0m\u001b[1;33m\u001b[0m\u001b[1;33m\u001b[0m\u001b[0m\n",
      "\u001b[1;32mC:\\ProgramData\\Anaconda3\\lib\\site-packages\\matplotlib\\backends\\backend_agg.py\u001b[0m in \u001b[0;36m__init__\u001b[1;34m(self, width, height, dpi)\u001b[0m\n\u001b[0;32m     84\u001b[0m         \u001b[0mself\u001b[0m\u001b[1;33m.\u001b[0m\u001b[0mwidth\u001b[0m \u001b[1;33m=\u001b[0m \u001b[0mwidth\u001b[0m\u001b[1;33m\u001b[0m\u001b[1;33m\u001b[0m\u001b[0m\n\u001b[0;32m     85\u001b[0m         \u001b[0mself\u001b[0m\u001b[1;33m.\u001b[0m\u001b[0mheight\u001b[0m \u001b[1;33m=\u001b[0m \u001b[0mheight\u001b[0m\u001b[1;33m\u001b[0m\u001b[1;33m\u001b[0m\u001b[0m\n\u001b[1;32m---> 86\u001b[1;33m         \u001b[0mself\u001b[0m\u001b[1;33m.\u001b[0m\u001b[0m_renderer\u001b[0m \u001b[1;33m=\u001b[0m \u001b[0m_RendererAgg\u001b[0m\u001b[1;33m(\u001b[0m\u001b[0mint\u001b[0m\u001b[1;33m(\u001b[0m\u001b[0mwidth\u001b[0m\u001b[1;33m)\u001b[0m\u001b[1;33m,\u001b[0m \u001b[0mint\u001b[0m\u001b[1;33m(\u001b[0m\u001b[0mheight\u001b[0m\u001b[1;33m)\u001b[0m\u001b[1;33m,\u001b[0m \u001b[0mdpi\u001b[0m\u001b[1;33m)\u001b[0m\u001b[1;33m\u001b[0m\u001b[1;33m\u001b[0m\u001b[0m\n\u001b[0m\u001b[0;32m     87\u001b[0m         \u001b[0mself\u001b[0m\u001b[1;33m.\u001b[0m\u001b[0m_filter_renderers\u001b[0m \u001b[1;33m=\u001b[0m \u001b[1;33m[\u001b[0m\u001b[1;33m]\u001b[0m\u001b[1;33m\u001b[0m\u001b[1;33m\u001b[0m\u001b[0m\n\u001b[0;32m     88\u001b[0m \u001b[1;33m\u001b[0m\u001b[0m\n",
      "\u001b[1;31mValueError\u001b[0m: Image size of 86400x57600 pixels is too large. It must be less than 2^16 in each direction."
     ]
    },
    {
     "data": {
      "text/plain": [
       "<Figure size 86400x57600 with 1 Axes>"
      ]
     },
     "metadata": {},
     "output_type": "display_data"
    }
   ],
   "source": [
    "import VisualizeNN as VisNN\n",
    "network=VisNN.DrawNN([5,5,1], model4.coefs_)\n",
    "network.draw()"
   ]
  },
  {
   "cell_type": "code",
   "execution_count": null,
   "metadata": {},
   "outputs": [],
   "source": []
  }
 ],
 "metadata": {
  "kernelspec": {
   "display_name": "Python 3",
   "language": "python",
   "name": "python3"
  },
  "language_info": {
   "codemirror_mode": {
    "name": "ipython",
    "version": 3
   },
   "file_extension": ".py",
   "mimetype": "text/x-python",
   "name": "python",
   "nbconvert_exporter": "python",
   "pygments_lexer": "ipython3",
   "version": "3.7.4"
  }
 },
 "nbformat": 4,
 "nbformat_minor": 2
}
